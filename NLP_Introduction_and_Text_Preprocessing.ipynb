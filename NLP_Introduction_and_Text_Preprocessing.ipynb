{
  "nbformat": 4,
  "nbformat_minor": 0,
  "metadata": {
    "colab": {
      "provenance": [],
      "gpuType": "T4"
    },
    "kernelspec": {
      "name": "python3",
      "display_name": "Python 3"
    },
    "language_info": {
      "name": "python"
    },
    "accelerator": "GPU",
    "widgets": {
      "application/vnd.jupyter.widget-state+json": {
        "5d53d4d2e12a47d8818fc3bcddcad91e": {
          "model_module": "@jupyter-widgets/controls",
          "model_name": "HBoxModel",
          "model_module_version": "1.5.0",
          "state": {
            "_dom_classes": [],
            "_model_module": "@jupyter-widgets/controls",
            "_model_module_version": "1.5.0",
            "_model_name": "HBoxModel",
            "_view_count": null,
            "_view_module": "@jupyter-widgets/controls",
            "_view_module_version": "1.5.0",
            "_view_name": "HBoxView",
            "box_style": "",
            "children": [
              "IPY_MODEL_334069011f8e442ea90a399f8599e2b1",
              "IPY_MODEL_bf9a21d3952e40f995fbc9eb6e7ae867",
              "IPY_MODEL_a4f18378206748d1be19ed65454b34b1"
            ],
            "layout": "IPY_MODEL_8b8083370c2a49bca9f4a872270617e0"
          }
        },
        "334069011f8e442ea90a399f8599e2b1": {
          "model_module": "@jupyter-widgets/controls",
          "model_name": "HTMLModel",
          "model_module_version": "1.5.0",
          "state": {
            "_dom_classes": [],
            "_model_module": "@jupyter-widgets/controls",
            "_model_module_version": "1.5.0",
            "_model_name": "HTMLModel",
            "_view_count": null,
            "_view_module": "@jupyter-widgets/controls",
            "_view_module_version": "1.5.0",
            "_view_name": "HTMLView",
            "description": "",
            "description_tooltip": null,
            "layout": "IPY_MODEL_b7c61f4e63d84e8dbf7c44a94ed52db8",
            "placeholder": "​",
            "style": "IPY_MODEL_9417bc8294cc48e699fd71c666bf3740",
            "value": "config.json: 100%"
          }
        },
        "bf9a21d3952e40f995fbc9eb6e7ae867": {
          "model_module": "@jupyter-widgets/controls",
          "model_name": "FloatProgressModel",
          "model_module_version": "1.5.0",
          "state": {
            "_dom_classes": [],
            "_model_module": "@jupyter-widgets/controls",
            "_model_module_version": "1.5.0",
            "_model_name": "FloatProgressModel",
            "_view_count": null,
            "_view_module": "@jupyter-widgets/controls",
            "_view_module_version": "1.5.0",
            "_view_name": "ProgressView",
            "bar_style": "success",
            "description": "",
            "description_tooltip": null,
            "layout": "IPY_MODEL_647cd1b7349f4f75b65738e9f1160c09",
            "max": 998,
            "min": 0,
            "orientation": "horizontal",
            "style": "IPY_MODEL_c6937424ea61438d993cd4255dbcd1f8",
            "value": 998
          }
        },
        "a4f18378206748d1be19ed65454b34b1": {
          "model_module": "@jupyter-widgets/controls",
          "model_name": "HTMLModel",
          "model_module_version": "1.5.0",
          "state": {
            "_dom_classes": [],
            "_model_module": "@jupyter-widgets/controls",
            "_model_module_version": "1.5.0",
            "_model_name": "HTMLModel",
            "_view_count": null,
            "_view_module": "@jupyter-widgets/controls",
            "_view_module_version": "1.5.0",
            "_view_name": "HTMLView",
            "description": "",
            "description_tooltip": null,
            "layout": "IPY_MODEL_c9f83647c4ca404ebb7140a59202ebdb",
            "placeholder": "​",
            "style": "IPY_MODEL_b007aa1f5caa4ca59612b5cfffdc4867",
            "value": " 998/998 [00:00&lt;00:00, 45.5kB/s]"
          }
        },
        "8b8083370c2a49bca9f4a872270617e0": {
          "model_module": "@jupyter-widgets/base",
          "model_name": "LayoutModel",
          "model_module_version": "1.2.0",
          "state": {
            "_model_module": "@jupyter-widgets/base",
            "_model_module_version": "1.2.0",
            "_model_name": "LayoutModel",
            "_view_count": null,
            "_view_module": "@jupyter-widgets/base",
            "_view_module_version": "1.2.0",
            "_view_name": "LayoutView",
            "align_content": null,
            "align_items": null,
            "align_self": null,
            "border": null,
            "bottom": null,
            "display": null,
            "flex": null,
            "flex_flow": null,
            "grid_area": null,
            "grid_auto_columns": null,
            "grid_auto_flow": null,
            "grid_auto_rows": null,
            "grid_column": null,
            "grid_gap": null,
            "grid_row": null,
            "grid_template_areas": null,
            "grid_template_columns": null,
            "grid_template_rows": null,
            "height": null,
            "justify_content": null,
            "justify_items": null,
            "left": null,
            "margin": null,
            "max_height": null,
            "max_width": null,
            "min_height": null,
            "min_width": null,
            "object_fit": null,
            "object_position": null,
            "order": null,
            "overflow": null,
            "overflow_x": null,
            "overflow_y": null,
            "padding": null,
            "right": null,
            "top": null,
            "visibility": null,
            "width": null
          }
        },
        "b7c61f4e63d84e8dbf7c44a94ed52db8": {
          "model_module": "@jupyter-widgets/base",
          "model_name": "LayoutModel",
          "model_module_version": "1.2.0",
          "state": {
            "_model_module": "@jupyter-widgets/base",
            "_model_module_version": "1.2.0",
            "_model_name": "LayoutModel",
            "_view_count": null,
            "_view_module": "@jupyter-widgets/base",
            "_view_module_version": "1.2.0",
            "_view_name": "LayoutView",
            "align_content": null,
            "align_items": null,
            "align_self": null,
            "border": null,
            "bottom": null,
            "display": null,
            "flex": null,
            "flex_flow": null,
            "grid_area": null,
            "grid_auto_columns": null,
            "grid_auto_flow": null,
            "grid_auto_rows": null,
            "grid_column": null,
            "grid_gap": null,
            "grid_row": null,
            "grid_template_areas": null,
            "grid_template_columns": null,
            "grid_template_rows": null,
            "height": null,
            "justify_content": null,
            "justify_items": null,
            "left": null,
            "margin": null,
            "max_height": null,
            "max_width": null,
            "min_height": null,
            "min_width": null,
            "object_fit": null,
            "object_position": null,
            "order": null,
            "overflow": null,
            "overflow_x": null,
            "overflow_y": null,
            "padding": null,
            "right": null,
            "top": null,
            "visibility": null,
            "width": null
          }
        },
        "9417bc8294cc48e699fd71c666bf3740": {
          "model_module": "@jupyter-widgets/controls",
          "model_name": "DescriptionStyleModel",
          "model_module_version": "1.5.0",
          "state": {
            "_model_module": "@jupyter-widgets/controls",
            "_model_module_version": "1.5.0",
            "_model_name": "DescriptionStyleModel",
            "_view_count": null,
            "_view_module": "@jupyter-widgets/base",
            "_view_module_version": "1.2.0",
            "_view_name": "StyleView",
            "description_width": ""
          }
        },
        "647cd1b7349f4f75b65738e9f1160c09": {
          "model_module": "@jupyter-widgets/base",
          "model_name": "LayoutModel",
          "model_module_version": "1.2.0",
          "state": {
            "_model_module": "@jupyter-widgets/base",
            "_model_module_version": "1.2.0",
            "_model_name": "LayoutModel",
            "_view_count": null,
            "_view_module": "@jupyter-widgets/base",
            "_view_module_version": "1.2.0",
            "_view_name": "LayoutView",
            "align_content": null,
            "align_items": null,
            "align_self": null,
            "border": null,
            "bottom": null,
            "display": null,
            "flex": null,
            "flex_flow": null,
            "grid_area": null,
            "grid_auto_columns": null,
            "grid_auto_flow": null,
            "grid_auto_rows": null,
            "grid_column": null,
            "grid_gap": null,
            "grid_row": null,
            "grid_template_areas": null,
            "grid_template_columns": null,
            "grid_template_rows": null,
            "height": null,
            "justify_content": null,
            "justify_items": null,
            "left": null,
            "margin": null,
            "max_height": null,
            "max_width": null,
            "min_height": null,
            "min_width": null,
            "object_fit": null,
            "object_position": null,
            "order": null,
            "overflow": null,
            "overflow_x": null,
            "overflow_y": null,
            "padding": null,
            "right": null,
            "top": null,
            "visibility": null,
            "width": null
          }
        },
        "c6937424ea61438d993cd4255dbcd1f8": {
          "model_module": "@jupyter-widgets/controls",
          "model_name": "ProgressStyleModel",
          "model_module_version": "1.5.0",
          "state": {
            "_model_module": "@jupyter-widgets/controls",
            "_model_module_version": "1.5.0",
            "_model_name": "ProgressStyleModel",
            "_view_count": null,
            "_view_module": "@jupyter-widgets/base",
            "_view_module_version": "1.2.0",
            "_view_name": "StyleView",
            "bar_color": null,
            "description_width": ""
          }
        },
        "c9f83647c4ca404ebb7140a59202ebdb": {
          "model_module": "@jupyter-widgets/base",
          "model_name": "LayoutModel",
          "model_module_version": "1.2.0",
          "state": {
            "_model_module": "@jupyter-widgets/base",
            "_model_module_version": "1.2.0",
            "_model_name": "LayoutModel",
            "_view_count": null,
            "_view_module": "@jupyter-widgets/base",
            "_view_module_version": "1.2.0",
            "_view_name": "LayoutView",
            "align_content": null,
            "align_items": null,
            "align_self": null,
            "border": null,
            "bottom": null,
            "display": null,
            "flex": null,
            "flex_flow": null,
            "grid_area": null,
            "grid_auto_columns": null,
            "grid_auto_flow": null,
            "grid_auto_rows": null,
            "grid_column": null,
            "grid_gap": null,
            "grid_row": null,
            "grid_template_areas": null,
            "grid_template_columns": null,
            "grid_template_rows": null,
            "height": null,
            "justify_content": null,
            "justify_items": null,
            "left": null,
            "margin": null,
            "max_height": null,
            "max_width": null,
            "min_height": null,
            "min_width": null,
            "object_fit": null,
            "object_position": null,
            "order": null,
            "overflow": null,
            "overflow_x": null,
            "overflow_y": null,
            "padding": null,
            "right": null,
            "top": null,
            "visibility": null,
            "width": null
          }
        },
        "b007aa1f5caa4ca59612b5cfffdc4867": {
          "model_module": "@jupyter-widgets/controls",
          "model_name": "DescriptionStyleModel",
          "model_module_version": "1.5.0",
          "state": {
            "_model_module": "@jupyter-widgets/controls",
            "_model_module_version": "1.5.0",
            "_model_name": "DescriptionStyleModel",
            "_view_count": null,
            "_view_module": "@jupyter-widgets/base",
            "_view_module_version": "1.2.0",
            "_view_name": "StyleView",
            "description_width": ""
          }
        },
        "79dc5cfe20524b95a5cfca4a7869f708": {
          "model_module": "@jupyter-widgets/controls",
          "model_name": "HBoxModel",
          "model_module_version": "1.5.0",
          "state": {
            "_dom_classes": [],
            "_model_module": "@jupyter-widgets/controls",
            "_model_module_version": "1.5.0",
            "_model_name": "HBoxModel",
            "_view_count": null,
            "_view_module": "@jupyter-widgets/controls",
            "_view_module_version": "1.5.0",
            "_view_name": "HBoxView",
            "box_style": "",
            "children": [
              "IPY_MODEL_f7a02eb96a9447b58a2fc6095ee95046",
              "IPY_MODEL_48e55a32099c43e99d3bc0c6f4349df8",
              "IPY_MODEL_9267b960e06a45eebb6a7261bee028c6"
            ],
            "layout": "IPY_MODEL_d283425f075a4128be41deda118b4828"
          }
        },
        "f7a02eb96a9447b58a2fc6095ee95046": {
          "model_module": "@jupyter-widgets/controls",
          "model_name": "HTMLModel",
          "model_module_version": "1.5.0",
          "state": {
            "_dom_classes": [],
            "_model_module": "@jupyter-widgets/controls",
            "_model_module_version": "1.5.0",
            "_model_name": "HTMLModel",
            "_view_count": null,
            "_view_module": "@jupyter-widgets/controls",
            "_view_module_version": "1.5.0",
            "_view_name": "HTMLView",
            "description": "",
            "description_tooltip": null,
            "layout": "IPY_MODEL_cbb6821de7174fe28ebfce6f12680496",
            "placeholder": "​",
            "style": "IPY_MODEL_ff52c41b75644864b57a2bf963b6c87e",
            "value": "model.safetensors: 100%"
          }
        },
        "48e55a32099c43e99d3bc0c6f4349df8": {
          "model_module": "@jupyter-widgets/controls",
          "model_name": "FloatProgressModel",
          "model_module_version": "1.5.0",
          "state": {
            "_dom_classes": [],
            "_model_module": "@jupyter-widgets/controls",
            "_model_module_version": "1.5.0",
            "_model_name": "FloatProgressModel",
            "_view_count": null,
            "_view_module": "@jupyter-widgets/controls",
            "_view_module_version": "1.5.0",
            "_view_name": "ProgressView",
            "bar_style": "success",
            "description": "",
            "description_tooltip": null,
            "layout": "IPY_MODEL_e102073d3a3d44169b093bf4484f7982",
            "max": 1334400964,
            "min": 0,
            "orientation": "horizontal",
            "style": "IPY_MODEL_f6fa31cc4dff4fdbaa78ba4043207215",
            "value": 1334400964
          }
        },
        "9267b960e06a45eebb6a7261bee028c6": {
          "model_module": "@jupyter-widgets/controls",
          "model_name": "HTMLModel",
          "model_module_version": "1.5.0",
          "state": {
            "_dom_classes": [],
            "_model_module": "@jupyter-widgets/controls",
            "_model_module_version": "1.5.0",
            "_model_name": "HTMLModel",
            "_view_count": null,
            "_view_module": "@jupyter-widgets/controls",
            "_view_module_version": "1.5.0",
            "_view_name": "HTMLView",
            "description": "",
            "description_tooltip": null,
            "layout": "IPY_MODEL_9951fa56020d460991b48c62e449affe",
            "placeholder": "​",
            "style": "IPY_MODEL_356cd62c1e1f4c4d8dae05b070402998",
            "value": " 1.33G/1.33G [00:11&lt;00:00, 80.8MB/s]"
          }
        },
        "d283425f075a4128be41deda118b4828": {
          "model_module": "@jupyter-widgets/base",
          "model_name": "LayoutModel",
          "model_module_version": "1.2.0",
          "state": {
            "_model_module": "@jupyter-widgets/base",
            "_model_module_version": "1.2.0",
            "_model_name": "LayoutModel",
            "_view_count": null,
            "_view_module": "@jupyter-widgets/base",
            "_view_module_version": "1.2.0",
            "_view_name": "LayoutView",
            "align_content": null,
            "align_items": null,
            "align_self": null,
            "border": null,
            "bottom": null,
            "display": null,
            "flex": null,
            "flex_flow": null,
            "grid_area": null,
            "grid_auto_columns": null,
            "grid_auto_flow": null,
            "grid_auto_rows": null,
            "grid_column": null,
            "grid_gap": null,
            "grid_row": null,
            "grid_template_areas": null,
            "grid_template_columns": null,
            "grid_template_rows": null,
            "height": null,
            "justify_content": null,
            "justify_items": null,
            "left": null,
            "margin": null,
            "max_height": null,
            "max_width": null,
            "min_height": null,
            "min_width": null,
            "object_fit": null,
            "object_position": null,
            "order": null,
            "overflow": null,
            "overflow_x": null,
            "overflow_y": null,
            "padding": null,
            "right": null,
            "top": null,
            "visibility": null,
            "width": null
          }
        },
        "cbb6821de7174fe28ebfce6f12680496": {
          "model_module": "@jupyter-widgets/base",
          "model_name": "LayoutModel",
          "model_module_version": "1.2.0",
          "state": {
            "_model_module": "@jupyter-widgets/base",
            "_model_module_version": "1.2.0",
            "_model_name": "LayoutModel",
            "_view_count": null,
            "_view_module": "@jupyter-widgets/base",
            "_view_module_version": "1.2.0",
            "_view_name": "LayoutView",
            "align_content": null,
            "align_items": null,
            "align_self": null,
            "border": null,
            "bottom": null,
            "display": null,
            "flex": null,
            "flex_flow": null,
            "grid_area": null,
            "grid_auto_columns": null,
            "grid_auto_flow": null,
            "grid_auto_rows": null,
            "grid_column": null,
            "grid_gap": null,
            "grid_row": null,
            "grid_template_areas": null,
            "grid_template_columns": null,
            "grid_template_rows": null,
            "height": null,
            "justify_content": null,
            "justify_items": null,
            "left": null,
            "margin": null,
            "max_height": null,
            "max_width": null,
            "min_height": null,
            "min_width": null,
            "object_fit": null,
            "object_position": null,
            "order": null,
            "overflow": null,
            "overflow_x": null,
            "overflow_y": null,
            "padding": null,
            "right": null,
            "top": null,
            "visibility": null,
            "width": null
          }
        },
        "ff52c41b75644864b57a2bf963b6c87e": {
          "model_module": "@jupyter-widgets/controls",
          "model_name": "DescriptionStyleModel",
          "model_module_version": "1.5.0",
          "state": {
            "_model_module": "@jupyter-widgets/controls",
            "_model_module_version": "1.5.0",
            "_model_name": "DescriptionStyleModel",
            "_view_count": null,
            "_view_module": "@jupyter-widgets/base",
            "_view_module_version": "1.2.0",
            "_view_name": "StyleView",
            "description_width": ""
          }
        },
        "e102073d3a3d44169b093bf4484f7982": {
          "model_module": "@jupyter-widgets/base",
          "model_name": "LayoutModel",
          "model_module_version": "1.2.0",
          "state": {
            "_model_module": "@jupyter-widgets/base",
            "_model_module_version": "1.2.0",
            "_model_name": "LayoutModel",
            "_view_count": null,
            "_view_module": "@jupyter-widgets/base",
            "_view_module_version": "1.2.0",
            "_view_name": "LayoutView",
            "align_content": null,
            "align_items": null,
            "align_self": null,
            "border": null,
            "bottom": null,
            "display": null,
            "flex": null,
            "flex_flow": null,
            "grid_area": null,
            "grid_auto_columns": null,
            "grid_auto_flow": null,
            "grid_auto_rows": null,
            "grid_column": null,
            "grid_gap": null,
            "grid_row": null,
            "grid_template_areas": null,
            "grid_template_columns": null,
            "grid_template_rows": null,
            "height": null,
            "justify_content": null,
            "justify_items": null,
            "left": null,
            "margin": null,
            "max_height": null,
            "max_width": null,
            "min_height": null,
            "min_width": null,
            "object_fit": null,
            "object_position": null,
            "order": null,
            "overflow": null,
            "overflow_x": null,
            "overflow_y": null,
            "padding": null,
            "right": null,
            "top": null,
            "visibility": null,
            "width": null
          }
        },
        "f6fa31cc4dff4fdbaa78ba4043207215": {
          "model_module": "@jupyter-widgets/controls",
          "model_name": "ProgressStyleModel",
          "model_module_version": "1.5.0",
          "state": {
            "_model_module": "@jupyter-widgets/controls",
            "_model_module_version": "1.5.0",
            "_model_name": "ProgressStyleModel",
            "_view_count": null,
            "_view_module": "@jupyter-widgets/base",
            "_view_module_version": "1.2.0",
            "_view_name": "StyleView",
            "bar_color": null,
            "description_width": ""
          }
        },
        "9951fa56020d460991b48c62e449affe": {
          "model_module": "@jupyter-widgets/base",
          "model_name": "LayoutModel",
          "model_module_version": "1.2.0",
          "state": {
            "_model_module": "@jupyter-widgets/base",
            "_model_module_version": "1.2.0",
            "_model_name": "LayoutModel",
            "_view_count": null,
            "_view_module": "@jupyter-widgets/base",
            "_view_module_version": "1.2.0",
            "_view_name": "LayoutView",
            "align_content": null,
            "align_items": null,
            "align_self": null,
            "border": null,
            "bottom": null,
            "display": null,
            "flex": null,
            "flex_flow": null,
            "grid_area": null,
            "grid_auto_columns": null,
            "grid_auto_flow": null,
            "grid_auto_rows": null,
            "grid_column": null,
            "grid_gap": null,
            "grid_row": null,
            "grid_template_areas": null,
            "grid_template_columns": null,
            "grid_template_rows": null,
            "height": null,
            "justify_content": null,
            "justify_items": null,
            "left": null,
            "margin": null,
            "max_height": null,
            "max_width": null,
            "min_height": null,
            "min_width": null,
            "object_fit": null,
            "object_position": null,
            "order": null,
            "overflow": null,
            "overflow_x": null,
            "overflow_y": null,
            "padding": null,
            "right": null,
            "top": null,
            "visibility": null,
            "width": null
          }
        },
        "356cd62c1e1f4c4d8dae05b070402998": {
          "model_module": "@jupyter-widgets/controls",
          "model_name": "DescriptionStyleModel",
          "model_module_version": "1.5.0",
          "state": {
            "_model_module": "@jupyter-widgets/controls",
            "_model_module_version": "1.5.0",
            "_model_name": "DescriptionStyleModel",
            "_view_count": null,
            "_view_module": "@jupyter-widgets/base",
            "_view_module_version": "1.2.0",
            "_view_name": "StyleView",
            "description_width": ""
          }
        },
        "0216bf9e5e264771a646e9a4963772e9": {
          "model_module": "@jupyter-widgets/controls",
          "model_name": "HBoxModel",
          "model_module_version": "1.5.0",
          "state": {
            "_dom_classes": [],
            "_model_module": "@jupyter-widgets/controls",
            "_model_module_version": "1.5.0",
            "_model_name": "HBoxModel",
            "_view_count": null,
            "_view_module": "@jupyter-widgets/controls",
            "_view_module_version": "1.5.0",
            "_view_name": "HBoxView",
            "box_style": "",
            "children": [
              "IPY_MODEL_6ca76400057b403dbd35416cfe0b150b",
              "IPY_MODEL_5e3683683a62488fbfaa59a05412284d",
              "IPY_MODEL_efd5182b95dd4c60ad2b24a8d73a5b09"
            ],
            "layout": "IPY_MODEL_2addfa1f8dc54b778f52392d06badb68"
          }
        },
        "6ca76400057b403dbd35416cfe0b150b": {
          "model_module": "@jupyter-widgets/controls",
          "model_name": "HTMLModel",
          "model_module_version": "1.5.0",
          "state": {
            "_dom_classes": [],
            "_model_module": "@jupyter-widgets/controls",
            "_model_module_version": "1.5.0",
            "_model_name": "HTMLModel",
            "_view_count": null,
            "_view_module": "@jupyter-widgets/controls",
            "_view_module_version": "1.5.0",
            "_view_name": "HTMLView",
            "description": "",
            "description_tooltip": null,
            "layout": "IPY_MODEL_d1e804e4dc394467b8d83bf8f034ec8a",
            "placeholder": "​",
            "style": "IPY_MODEL_35101486e57640b0ae427d6b80a8c15a",
            "value": "tokenizer_config.json: 100%"
          }
        },
        "5e3683683a62488fbfaa59a05412284d": {
          "model_module": "@jupyter-widgets/controls",
          "model_name": "FloatProgressModel",
          "model_module_version": "1.5.0",
          "state": {
            "_dom_classes": [],
            "_model_module": "@jupyter-widgets/controls",
            "_model_module_version": "1.5.0",
            "_model_name": "FloatProgressModel",
            "_view_count": null,
            "_view_module": "@jupyter-widgets/controls",
            "_view_module_version": "1.5.0",
            "_view_name": "ProgressView",
            "bar_style": "success",
            "description": "",
            "description_tooltip": null,
            "layout": "IPY_MODEL_e3673fa18eed42788b2b3e1845c45cf4",
            "max": 60,
            "min": 0,
            "orientation": "horizontal",
            "style": "IPY_MODEL_95e42602987b43099dc2fde5e34e76fb",
            "value": 60
          }
        },
        "efd5182b95dd4c60ad2b24a8d73a5b09": {
          "model_module": "@jupyter-widgets/controls",
          "model_name": "HTMLModel",
          "model_module_version": "1.5.0",
          "state": {
            "_dom_classes": [],
            "_model_module": "@jupyter-widgets/controls",
            "_model_module_version": "1.5.0",
            "_model_name": "HTMLModel",
            "_view_count": null,
            "_view_module": "@jupyter-widgets/controls",
            "_view_module_version": "1.5.0",
            "_view_name": "HTMLView",
            "description": "",
            "description_tooltip": null,
            "layout": "IPY_MODEL_02bf476d0d064715ad9e38ec8e461d7c",
            "placeholder": "​",
            "style": "IPY_MODEL_f585c86812df49b182e303396bbc3502",
            "value": " 60.0/60.0 [00:00&lt;00:00, 1.56kB/s]"
          }
        },
        "2addfa1f8dc54b778f52392d06badb68": {
          "model_module": "@jupyter-widgets/base",
          "model_name": "LayoutModel",
          "model_module_version": "1.2.0",
          "state": {
            "_model_module": "@jupyter-widgets/base",
            "_model_module_version": "1.2.0",
            "_model_name": "LayoutModel",
            "_view_count": null,
            "_view_module": "@jupyter-widgets/base",
            "_view_module_version": "1.2.0",
            "_view_name": "LayoutView",
            "align_content": null,
            "align_items": null,
            "align_self": null,
            "border": null,
            "bottom": null,
            "display": null,
            "flex": null,
            "flex_flow": null,
            "grid_area": null,
            "grid_auto_columns": null,
            "grid_auto_flow": null,
            "grid_auto_rows": null,
            "grid_column": null,
            "grid_gap": null,
            "grid_row": null,
            "grid_template_areas": null,
            "grid_template_columns": null,
            "grid_template_rows": null,
            "height": null,
            "justify_content": null,
            "justify_items": null,
            "left": null,
            "margin": null,
            "max_height": null,
            "max_width": null,
            "min_height": null,
            "min_width": null,
            "object_fit": null,
            "object_position": null,
            "order": null,
            "overflow": null,
            "overflow_x": null,
            "overflow_y": null,
            "padding": null,
            "right": null,
            "top": null,
            "visibility": null,
            "width": null
          }
        },
        "d1e804e4dc394467b8d83bf8f034ec8a": {
          "model_module": "@jupyter-widgets/base",
          "model_name": "LayoutModel",
          "model_module_version": "1.2.0",
          "state": {
            "_model_module": "@jupyter-widgets/base",
            "_model_module_version": "1.2.0",
            "_model_name": "LayoutModel",
            "_view_count": null,
            "_view_module": "@jupyter-widgets/base",
            "_view_module_version": "1.2.0",
            "_view_name": "LayoutView",
            "align_content": null,
            "align_items": null,
            "align_self": null,
            "border": null,
            "bottom": null,
            "display": null,
            "flex": null,
            "flex_flow": null,
            "grid_area": null,
            "grid_auto_columns": null,
            "grid_auto_flow": null,
            "grid_auto_rows": null,
            "grid_column": null,
            "grid_gap": null,
            "grid_row": null,
            "grid_template_areas": null,
            "grid_template_columns": null,
            "grid_template_rows": null,
            "height": null,
            "justify_content": null,
            "justify_items": null,
            "left": null,
            "margin": null,
            "max_height": null,
            "max_width": null,
            "min_height": null,
            "min_width": null,
            "object_fit": null,
            "object_position": null,
            "order": null,
            "overflow": null,
            "overflow_x": null,
            "overflow_y": null,
            "padding": null,
            "right": null,
            "top": null,
            "visibility": null,
            "width": null
          }
        },
        "35101486e57640b0ae427d6b80a8c15a": {
          "model_module": "@jupyter-widgets/controls",
          "model_name": "DescriptionStyleModel",
          "model_module_version": "1.5.0",
          "state": {
            "_model_module": "@jupyter-widgets/controls",
            "_model_module_version": "1.5.0",
            "_model_name": "DescriptionStyleModel",
            "_view_count": null,
            "_view_module": "@jupyter-widgets/base",
            "_view_module_version": "1.2.0",
            "_view_name": "StyleView",
            "description_width": ""
          }
        },
        "e3673fa18eed42788b2b3e1845c45cf4": {
          "model_module": "@jupyter-widgets/base",
          "model_name": "LayoutModel",
          "model_module_version": "1.2.0",
          "state": {
            "_model_module": "@jupyter-widgets/base",
            "_model_module_version": "1.2.0",
            "_model_name": "LayoutModel",
            "_view_count": null,
            "_view_module": "@jupyter-widgets/base",
            "_view_module_version": "1.2.0",
            "_view_name": "LayoutView",
            "align_content": null,
            "align_items": null,
            "align_self": null,
            "border": null,
            "bottom": null,
            "display": null,
            "flex": null,
            "flex_flow": null,
            "grid_area": null,
            "grid_auto_columns": null,
            "grid_auto_flow": null,
            "grid_auto_rows": null,
            "grid_column": null,
            "grid_gap": null,
            "grid_row": null,
            "grid_template_areas": null,
            "grid_template_columns": null,
            "grid_template_rows": null,
            "height": null,
            "justify_content": null,
            "justify_items": null,
            "left": null,
            "margin": null,
            "max_height": null,
            "max_width": null,
            "min_height": null,
            "min_width": null,
            "object_fit": null,
            "object_position": null,
            "order": null,
            "overflow": null,
            "overflow_x": null,
            "overflow_y": null,
            "padding": null,
            "right": null,
            "top": null,
            "visibility": null,
            "width": null
          }
        },
        "95e42602987b43099dc2fde5e34e76fb": {
          "model_module": "@jupyter-widgets/controls",
          "model_name": "ProgressStyleModel",
          "model_module_version": "1.5.0",
          "state": {
            "_model_module": "@jupyter-widgets/controls",
            "_model_module_version": "1.5.0",
            "_model_name": "ProgressStyleModel",
            "_view_count": null,
            "_view_module": "@jupyter-widgets/base",
            "_view_module_version": "1.2.0",
            "_view_name": "StyleView",
            "bar_color": null,
            "description_width": ""
          }
        },
        "02bf476d0d064715ad9e38ec8e461d7c": {
          "model_module": "@jupyter-widgets/base",
          "model_name": "LayoutModel",
          "model_module_version": "1.2.0",
          "state": {
            "_model_module": "@jupyter-widgets/base",
            "_model_module_version": "1.2.0",
            "_model_name": "LayoutModel",
            "_view_count": null,
            "_view_module": "@jupyter-widgets/base",
            "_view_module_version": "1.2.0",
            "_view_name": "LayoutView",
            "align_content": null,
            "align_items": null,
            "align_self": null,
            "border": null,
            "bottom": null,
            "display": null,
            "flex": null,
            "flex_flow": null,
            "grid_area": null,
            "grid_auto_columns": null,
            "grid_auto_flow": null,
            "grid_auto_rows": null,
            "grid_column": null,
            "grid_gap": null,
            "grid_row": null,
            "grid_template_areas": null,
            "grid_template_columns": null,
            "grid_template_rows": null,
            "height": null,
            "justify_content": null,
            "justify_items": null,
            "left": null,
            "margin": null,
            "max_height": null,
            "max_width": null,
            "min_height": null,
            "min_width": null,
            "object_fit": null,
            "object_position": null,
            "order": null,
            "overflow": null,
            "overflow_x": null,
            "overflow_y": null,
            "padding": null,
            "right": null,
            "top": null,
            "visibility": null,
            "width": null
          }
        },
        "f585c86812df49b182e303396bbc3502": {
          "model_module": "@jupyter-widgets/controls",
          "model_name": "DescriptionStyleModel",
          "model_module_version": "1.5.0",
          "state": {
            "_model_module": "@jupyter-widgets/controls",
            "_model_module_version": "1.5.0",
            "_model_name": "DescriptionStyleModel",
            "_view_count": null,
            "_view_module": "@jupyter-widgets/base",
            "_view_module_version": "1.2.0",
            "_view_name": "StyleView",
            "description_width": ""
          }
        },
        "fadb6430adf74d7dbbef09ab36f4a239": {
          "model_module": "@jupyter-widgets/controls",
          "model_name": "HBoxModel",
          "model_module_version": "1.5.0",
          "state": {
            "_dom_classes": [],
            "_model_module": "@jupyter-widgets/controls",
            "_model_module_version": "1.5.0",
            "_model_name": "HBoxModel",
            "_view_count": null,
            "_view_module": "@jupyter-widgets/controls",
            "_view_module_version": "1.5.0",
            "_view_name": "HBoxView",
            "box_style": "",
            "children": [
              "IPY_MODEL_697ed4f72d3e4ac3ad97b6cd148f9f11",
              "IPY_MODEL_85cc7ee5ebf54420aeb164696ed69ddf",
              "IPY_MODEL_53a2e97dffa64be180bcb9b30b2e8d3a"
            ],
            "layout": "IPY_MODEL_d7e68b43052145ebafa7271ce181f1d6"
          }
        },
        "697ed4f72d3e4ac3ad97b6cd148f9f11": {
          "model_module": "@jupyter-widgets/controls",
          "model_name": "HTMLModel",
          "model_module_version": "1.5.0",
          "state": {
            "_dom_classes": [],
            "_model_module": "@jupyter-widgets/controls",
            "_model_module_version": "1.5.0",
            "_model_name": "HTMLModel",
            "_view_count": null,
            "_view_module": "@jupyter-widgets/controls",
            "_view_module_version": "1.5.0",
            "_view_name": "HTMLView",
            "description": "",
            "description_tooltip": null,
            "layout": "IPY_MODEL_4e5bf39c05514c6d8e501b0d7218e80c",
            "placeholder": "​",
            "style": "IPY_MODEL_ba5841201cea4b8fb730f2225235c623",
            "value": "vocab.txt: 100%"
          }
        },
        "85cc7ee5ebf54420aeb164696ed69ddf": {
          "model_module": "@jupyter-widgets/controls",
          "model_name": "FloatProgressModel",
          "model_module_version": "1.5.0",
          "state": {
            "_dom_classes": [],
            "_model_module": "@jupyter-widgets/controls",
            "_model_module_version": "1.5.0",
            "_model_name": "FloatProgressModel",
            "_view_count": null,
            "_view_module": "@jupyter-widgets/controls",
            "_view_module_version": "1.5.0",
            "_view_name": "ProgressView",
            "bar_style": "success",
            "description": "",
            "description_tooltip": null,
            "layout": "IPY_MODEL_8e0c9fa023564d648d51f9a7a50a2b67",
            "max": 213450,
            "min": 0,
            "orientation": "horizontal",
            "style": "IPY_MODEL_58d2dacc6f1e4c9393d61d675b7b7a1f",
            "value": 213450
          }
        },
        "53a2e97dffa64be180bcb9b30b2e8d3a": {
          "model_module": "@jupyter-widgets/controls",
          "model_name": "HTMLModel",
          "model_module_version": "1.5.0",
          "state": {
            "_dom_classes": [],
            "_model_module": "@jupyter-widgets/controls",
            "_model_module_version": "1.5.0",
            "_model_name": "HTMLModel",
            "_view_count": null,
            "_view_module": "@jupyter-widgets/controls",
            "_view_module_version": "1.5.0",
            "_view_name": "HTMLView",
            "description": "",
            "description_tooltip": null,
            "layout": "IPY_MODEL_704632838f9b4c54abe4cc01201d81b4",
            "placeholder": "​",
            "style": "IPY_MODEL_95beadbc6661498cb3f639a27be551f6",
            "value": " 213k/213k [00:00&lt;00:00, 3.20MB/s]"
          }
        },
        "d7e68b43052145ebafa7271ce181f1d6": {
          "model_module": "@jupyter-widgets/base",
          "model_name": "LayoutModel",
          "model_module_version": "1.2.0",
          "state": {
            "_model_module": "@jupyter-widgets/base",
            "_model_module_version": "1.2.0",
            "_model_name": "LayoutModel",
            "_view_count": null,
            "_view_module": "@jupyter-widgets/base",
            "_view_module_version": "1.2.0",
            "_view_name": "LayoutView",
            "align_content": null,
            "align_items": null,
            "align_self": null,
            "border": null,
            "bottom": null,
            "display": null,
            "flex": null,
            "flex_flow": null,
            "grid_area": null,
            "grid_auto_columns": null,
            "grid_auto_flow": null,
            "grid_auto_rows": null,
            "grid_column": null,
            "grid_gap": null,
            "grid_row": null,
            "grid_template_areas": null,
            "grid_template_columns": null,
            "grid_template_rows": null,
            "height": null,
            "justify_content": null,
            "justify_items": null,
            "left": null,
            "margin": null,
            "max_height": null,
            "max_width": null,
            "min_height": null,
            "min_width": null,
            "object_fit": null,
            "object_position": null,
            "order": null,
            "overflow": null,
            "overflow_x": null,
            "overflow_y": null,
            "padding": null,
            "right": null,
            "top": null,
            "visibility": null,
            "width": null
          }
        },
        "4e5bf39c05514c6d8e501b0d7218e80c": {
          "model_module": "@jupyter-widgets/base",
          "model_name": "LayoutModel",
          "model_module_version": "1.2.0",
          "state": {
            "_model_module": "@jupyter-widgets/base",
            "_model_module_version": "1.2.0",
            "_model_name": "LayoutModel",
            "_view_count": null,
            "_view_module": "@jupyter-widgets/base",
            "_view_module_version": "1.2.0",
            "_view_name": "LayoutView",
            "align_content": null,
            "align_items": null,
            "align_self": null,
            "border": null,
            "bottom": null,
            "display": null,
            "flex": null,
            "flex_flow": null,
            "grid_area": null,
            "grid_auto_columns": null,
            "grid_auto_flow": null,
            "grid_auto_rows": null,
            "grid_column": null,
            "grid_gap": null,
            "grid_row": null,
            "grid_template_areas": null,
            "grid_template_columns": null,
            "grid_template_rows": null,
            "height": null,
            "justify_content": null,
            "justify_items": null,
            "left": null,
            "margin": null,
            "max_height": null,
            "max_width": null,
            "min_height": null,
            "min_width": null,
            "object_fit": null,
            "object_position": null,
            "order": null,
            "overflow": null,
            "overflow_x": null,
            "overflow_y": null,
            "padding": null,
            "right": null,
            "top": null,
            "visibility": null,
            "width": null
          }
        },
        "ba5841201cea4b8fb730f2225235c623": {
          "model_module": "@jupyter-widgets/controls",
          "model_name": "DescriptionStyleModel",
          "model_module_version": "1.5.0",
          "state": {
            "_model_module": "@jupyter-widgets/controls",
            "_model_module_version": "1.5.0",
            "_model_name": "DescriptionStyleModel",
            "_view_count": null,
            "_view_module": "@jupyter-widgets/base",
            "_view_module_version": "1.2.0",
            "_view_name": "StyleView",
            "description_width": ""
          }
        },
        "8e0c9fa023564d648d51f9a7a50a2b67": {
          "model_module": "@jupyter-widgets/base",
          "model_name": "LayoutModel",
          "model_module_version": "1.2.0",
          "state": {
            "_model_module": "@jupyter-widgets/base",
            "_model_module_version": "1.2.0",
            "_model_name": "LayoutModel",
            "_view_count": null,
            "_view_module": "@jupyter-widgets/base",
            "_view_module_version": "1.2.0",
            "_view_name": "LayoutView",
            "align_content": null,
            "align_items": null,
            "align_self": null,
            "border": null,
            "bottom": null,
            "display": null,
            "flex": null,
            "flex_flow": null,
            "grid_area": null,
            "grid_auto_columns": null,
            "grid_auto_flow": null,
            "grid_auto_rows": null,
            "grid_column": null,
            "grid_gap": null,
            "grid_row": null,
            "grid_template_areas": null,
            "grid_template_columns": null,
            "grid_template_rows": null,
            "height": null,
            "justify_content": null,
            "justify_items": null,
            "left": null,
            "margin": null,
            "max_height": null,
            "max_width": null,
            "min_height": null,
            "min_width": null,
            "object_fit": null,
            "object_position": null,
            "order": null,
            "overflow": null,
            "overflow_x": null,
            "overflow_y": null,
            "padding": null,
            "right": null,
            "top": null,
            "visibility": null,
            "width": null
          }
        },
        "58d2dacc6f1e4c9393d61d675b7b7a1f": {
          "model_module": "@jupyter-widgets/controls",
          "model_name": "ProgressStyleModel",
          "model_module_version": "1.5.0",
          "state": {
            "_model_module": "@jupyter-widgets/controls",
            "_model_module_version": "1.5.0",
            "_model_name": "ProgressStyleModel",
            "_view_count": null,
            "_view_module": "@jupyter-widgets/base",
            "_view_module_version": "1.2.0",
            "_view_name": "StyleView",
            "bar_color": null,
            "description_width": ""
          }
        },
        "704632838f9b4c54abe4cc01201d81b4": {
          "model_module": "@jupyter-widgets/base",
          "model_name": "LayoutModel",
          "model_module_version": "1.2.0",
          "state": {
            "_model_module": "@jupyter-widgets/base",
            "_model_module_version": "1.2.0",
            "_model_name": "LayoutModel",
            "_view_count": null,
            "_view_module": "@jupyter-widgets/base",
            "_view_module_version": "1.2.0",
            "_view_name": "LayoutView",
            "align_content": null,
            "align_items": null,
            "align_self": null,
            "border": null,
            "bottom": null,
            "display": null,
            "flex": null,
            "flex_flow": null,
            "grid_area": null,
            "grid_auto_columns": null,
            "grid_auto_flow": null,
            "grid_auto_rows": null,
            "grid_column": null,
            "grid_gap": null,
            "grid_row": null,
            "grid_template_areas": null,
            "grid_template_columns": null,
            "grid_template_rows": null,
            "height": null,
            "justify_content": null,
            "justify_items": null,
            "left": null,
            "margin": null,
            "max_height": null,
            "max_width": null,
            "min_height": null,
            "min_width": null,
            "object_fit": null,
            "object_position": null,
            "order": null,
            "overflow": null,
            "overflow_x": null,
            "overflow_y": null,
            "padding": null,
            "right": null,
            "top": null,
            "visibility": null,
            "width": null
          }
        },
        "95beadbc6661498cb3f639a27be551f6": {
          "model_module": "@jupyter-widgets/controls",
          "model_name": "DescriptionStyleModel",
          "model_module_version": "1.5.0",
          "state": {
            "_model_module": "@jupyter-widgets/controls",
            "_model_module_version": "1.5.0",
            "_model_name": "DescriptionStyleModel",
            "_view_count": null,
            "_view_module": "@jupyter-widgets/base",
            "_view_module_version": "1.2.0",
            "_view_name": "StyleView",
            "description_width": ""
          }
        }
      }
    }
  },
  "cells": [
    {
      "cell_type": "markdown",
      "source": [
        " ## **NLP Introduction and Text  Preprocessing**"
      ],
      "metadata": {
        "id": "8DVvTpPOmLFq"
      }
    },
    {
      "cell_type": "markdown",
      "source": [
        "1. How can you perform word tokenization using NLTK"
      ],
      "metadata": {
        "id": "2Vh1a0J6mVb8"
      }
    },
    {
      "cell_type": "code",
      "source": [
        "!pip install --upgrade nltk\n"
      ],
      "metadata": {
        "colab": {
          "base_uri": "https://localhost:8080/"
        },
        "id": "IzT6dXcKwgqH",
        "outputId": "b18ea953-660c-42f6-bfac-deb56c85ea9f"
      },
      "execution_count": 1,
      "outputs": [
        {
          "output_type": "stream",
          "name": "stdout",
          "text": [
            "Requirement already satisfied: nltk in /usr/local/lib/python3.10/dist-packages (3.9.1)\n",
            "Requirement already satisfied: click in /usr/local/lib/python3.10/dist-packages (from nltk) (8.1.7)\n",
            "Requirement already satisfied: joblib in /usr/local/lib/python3.10/dist-packages (from nltk) (1.4.2)\n",
            "Requirement already satisfied: regex>=2021.8.3 in /usr/local/lib/python3.10/dist-packages (from nltk) (2024.11.6)\n",
            "Requirement already satisfied: tqdm in /usr/local/lib/python3.10/dist-packages (from nltk) (4.67.1)\n"
          ]
        }
      ]
    },
    {
      "cell_type": "code",
      "source": [
        "# Download the necessary NLTK resources\n",
        "import nltk\n",
        "nltk.download('punkt', download_dir='/root/nltk_data')\n",
        "nltk.download('punkt_tab', download_dir='/root/nltk_data')\n"
      ],
      "metadata": {
        "colab": {
          "base_uri": "https://localhost:8080/"
        },
        "id": "3pCoLvDtQvgO",
        "outputId": "d54e40e8-d150-420f-f5c3-6c8f2e04d84c"
      },
      "execution_count": 2,
      "outputs": [
        {
          "output_type": "stream",
          "name": "stderr",
          "text": [
            "[nltk_data] Downloading package punkt to /root/nltk_data...\n",
            "[nltk_data]   Unzipping tokenizers/punkt.zip.\n",
            "[nltk_data] Downloading package punkt_tab to /root/nltk_data...\n",
            "[nltk_data]   Unzipping tokenizers/punkt_tab.zip.\n"
          ]
        },
        {
          "output_type": "execute_result",
          "data": {
            "text/plain": [
              "True"
            ]
          },
          "metadata": {},
          "execution_count": 2
        }
      ]
    },
    {
      "cell_type": "code",
      "source": [
        "from nltk.tokenize import word_tokenize\n",
        "\n",
        "token  = word_tokenize(\"Hello world\")\n",
        "print(token)"
      ],
      "metadata": {
        "colab": {
          "base_uri": "https://localhost:8080/"
        },
        "id": "euraGGgIwezj",
        "outputId": "fbd3fbfc-24fd-489c-b6d2-39453922a19d"
      },
      "execution_count": 3,
      "outputs": [
        {
          "output_type": "stream",
          "name": "stdout",
          "text": [
            "['Hello', 'world']\n"
          ]
        }
      ]
    },
    {
      "cell_type": "code",
      "source": [
        "import nltk\n",
        "\n",
        "# Set a custom NLTK data path (in Colab)\n",
        "nltk.data.path.append('/root/nltk_data')\n",
        "\n",
        "# Download the punkt resource\n",
        "nltk.download('punkt')\n"
      ],
      "metadata": {
        "colab": {
          "base_uri": "https://localhost:8080/"
        },
        "id": "814MXB_bqRce",
        "outputId": "74855eda-5437-4c85-ad94-4638f9f140c1"
      },
      "execution_count": 4,
      "outputs": [
        {
          "output_type": "stream",
          "name": "stderr",
          "text": [
            "[nltk_data] Downloading package punkt to /root/nltk_data...\n",
            "[nltk_data]   Package punkt is already up-to-date!\n"
          ]
        },
        {
          "output_type": "execute_result",
          "data": {
            "text/plain": [
              "True"
            ]
          },
          "metadata": {},
          "execution_count": 4
        }
      ]
    },
    {
      "cell_type": "code",
      "source": [
        "import nltk\n",
        "\n",
        "# Ensure the correct path for nltk data\n",
        "nltk.download('punkt', download_dir='/content/nltk_data')\n"
      ],
      "metadata": {
        "colab": {
          "base_uri": "https://localhost:8080/"
        },
        "id": "yTrm1Kkgq6xU",
        "outputId": "5c575c25-b819-4df8-ceed-3386c7a376e7"
      },
      "execution_count": 5,
      "outputs": [
        {
          "output_type": "stream",
          "name": "stderr",
          "text": [
            "[nltk_data] Downloading package punkt to /content/nltk_data...\n",
            "[nltk_data]   Package punkt is already up-to-date!\n"
          ]
        },
        {
          "output_type": "execute_result",
          "data": {
            "text/plain": [
              "True"
            ]
          },
          "metadata": {},
          "execution_count": 5
        }
      ]
    },
    {
      "cell_type": "code",
      "source": [],
      "metadata": {
        "id": "SiPsanBaxHPF"
      },
      "execution_count": 5,
      "outputs": []
    },
    {
      "cell_type": "code",
      "source": [
        "from nltk.tokenize import TreebankWordTokenizer\n",
        "\n",
        "tokenizer = TreebankWordTokenizer()\n",
        "\n",
        "# Example text for tokenization\n",
        "text = \"Natural Language Processing is fascinating!\"\n",
        "\n",
        "# Perform word tokenization\n",
        "tokenizer.tokenize(text)\n",
        "\n"
      ],
      "metadata": {
        "colab": {
          "base_uri": "https://localhost:8080/"
        },
        "id": "9B28Jxnxq8rh",
        "outputId": "a380d4fc-02c0-4714-9343-ed17fd0257c1"
      },
      "execution_count": 6,
      "outputs": [
        {
          "output_type": "execute_result",
          "data": {
            "text/plain": [
              "['Natural', 'Language', 'Processing', 'is', 'fascinating', '!']"
            ]
          },
          "metadata": {},
          "execution_count": 6
        }
      ]
    },
    {
      "cell_type": "markdown",
      "source": [
        "2. How can you perform sentence tokenization using NLTK:"
      ],
      "metadata": {
        "id": "GCVPcqQxsFj3"
      }
    },
    {
      "cell_type": "code",
      "source": [
        "from nltk.tokenize import sent_tokenize\n",
        "\n",
        "sentence = \"Hello! How are you? I hope you're doing well. Have a great day!\"\n",
        "\n",
        "sent_tokenize(sentence)\n",
        "\n",
        "print(sent_tokenize(sentence))"
      ],
      "metadata": {
        "colab": {
          "base_uri": "https://localhost:8080/"
        },
        "id": "WS6FKQA_xTHK",
        "outputId": "1b4c8398-a487-492e-9ca0-8be5b7dcc6f5"
      },
      "execution_count": 7,
      "outputs": [
        {
          "output_type": "stream",
          "name": "stdout",
          "text": [
            "['Hello!', 'How are you?', \"I hope you're doing well.\", 'Have a great day!']\n"
          ]
        }
      ]
    },
    {
      "cell_type": "code",
      "source": [
        "import spacy\n",
        "\n",
        "# Load the English model\n",
        "nlp = spacy.load('en_core_web_sm')\n",
        "\n",
        "text = \"Hello! How are you? I hope you're doing well. Have a great day!\"\n",
        "doc = nlp(text)\n",
        "\n",
        "sentences = [sent.text for sent in doc.sents]\n",
        "print(sentences)\n"
      ],
      "metadata": {
        "colab": {
          "base_uri": "https://localhost:8080/"
        },
        "id": "2urnLNb6rCcD",
        "outputId": "31eda456-7111-4b46-f194-7bedf9158aa4"
      },
      "execution_count": 8,
      "outputs": [
        {
          "output_type": "stream",
          "name": "stdout",
          "text": [
            "['Hello!', 'How are you?', \"I hope you're doing well.\", 'Have a great day!']\n"
          ]
        }
      ]
    },
    {
      "cell_type": "markdown",
      "source": [
        "3.  How can you remove stopwords from a sentence ?"
      ],
      "metadata": {
        "id": "4T-KQtQwubem"
      }
    },
    {
      "cell_type": "code",
      "source": [
        "import nltk\n",
        "\n",
        "# Download 'punkt' and 'punkt_tab' resources\n",
        "nltk.download('punkt')\n",
        "nltk.download('punkt_tab')\n"
      ],
      "metadata": {
        "colab": {
          "base_uri": "https://localhost:8080/"
        },
        "id": "9qpvz8OBsS2B",
        "outputId": "11735707-d887-4c74-9579-a992cddbd35c"
      },
      "execution_count": 9,
      "outputs": [
        {
          "output_type": "stream",
          "name": "stderr",
          "text": [
            "[nltk_data] Downloading package punkt to /root/nltk_data...\n",
            "[nltk_data]   Package punkt is already up-to-date!\n",
            "[nltk_data] Downloading package punkt_tab to /root/nltk_data...\n",
            "[nltk_data]   Package punkt_tab is already up-to-date!\n"
          ]
        },
        {
          "output_type": "execute_result",
          "data": {
            "text/plain": [
              "True"
            ]
          },
          "metadata": {},
          "execution_count": 9
        }
      ]
    },
    {
      "cell_type": "code",
      "source": [
        "import nltk\n",
        "\n",
        "# Set a custom NLTK data path (in Colab)\n",
        "nltk.data.path.append('/root/nltk_data')\n",
        "\n",
        "# Download the necessary NLTK resources\n",
        "nltk.download('punkt', download_dir='/root/nltk_data')\n",
        "nltk.download('punkt_tab', download_dir='/root/nltk_data')\n"
      ],
      "metadata": {
        "colab": {
          "base_uri": "https://localhost:8080/"
        },
        "id": "mYKWNmI8vOZx",
        "outputId": "e003ffee-e191-4b8e-a665-e8434074967e"
      },
      "execution_count": 10,
      "outputs": [
        {
          "output_type": "stream",
          "name": "stderr",
          "text": [
            "[nltk_data] Downloading package punkt to /root/nltk_data...\n",
            "[nltk_data]   Package punkt is already up-to-date!\n",
            "[nltk_data] Downloading package punkt_tab to /root/nltk_data...\n",
            "[nltk_data]   Package punkt_tab is already up-to-date!\n"
          ]
        },
        {
          "output_type": "execute_result",
          "data": {
            "text/plain": [
              "True"
            ]
          },
          "metadata": {},
          "execution_count": 10
        }
      ]
    },
    {
      "cell_type": "code",
      "source": [
        "import nltk\n",
        "\n",
        "# Set a custom NLTK data path (in Colab)\n",
        "nltk.data.path.append('/root/nltk_data')\n",
        "\n",
        "# Download the necessary NLTK resources\n",
        "nltk.download('punkt', download_dir='/root/nltk_data')\n",
        "nltk.download('punkt_tab', download_dir='/root/nltk_data')\n"
      ],
      "metadata": {
        "colab": {
          "base_uri": "https://localhost:8080/"
        },
        "id": "WU6YHOjMwDMu",
        "outputId": "bbaf083c-7e67-4be3-f98b-95e5dcbeb179"
      },
      "execution_count": 11,
      "outputs": [
        {
          "output_type": "stream",
          "name": "stderr",
          "text": [
            "[nltk_data] Downloading package punkt to /root/nltk_data...\n",
            "[nltk_data]   Package punkt is already up-to-date!\n",
            "[nltk_data] Downloading package punkt_tab to /root/nltk_data...\n",
            "[nltk_data]   Package punkt_tab is already up-to-date!\n"
          ]
        },
        {
          "output_type": "execute_result",
          "data": {
            "text/plain": [
              "True"
            ]
          },
          "metadata": {},
          "execution_count": 11
        }
      ]
    },
    {
      "cell_type": "code",
      "source": [
        "from nltk.tokenize import word_tokenize, sent_tokenize\n",
        "from nltk.corpus import stopwords\n",
        "nltk.download('stopwords')\n",
        "\n",
        "# Example sentence\n",
        "sentence = \"This is an example sentence demonstrating the removal of stopwords.\"\n",
        "\n",
        "# Tokenize the sentence into words\n",
        "words = word_tokenize(sentence)\n",
        "\n",
        "# Get the list of English stopwords\n",
        "stop_words = set(stopwords.words('english'))\n",
        "\n",
        "# Remove stopwords from the tokenized words\n",
        "filtered_words = [word for word in words if word.lower() not in stop_words]\n",
        "\n",
        "# Print the filtered words\n",
        "print(\"Filtered Sentence:\", \" \".join(filtered_words))\n"
      ],
      "metadata": {
        "colab": {
          "base_uri": "https://localhost:8080/"
        },
        "id": "aevUmSflwMb4",
        "outputId": "96f78b03-4ccf-4dba-ac1e-00d1fb08c5c1"
      },
      "execution_count": 12,
      "outputs": [
        {
          "output_type": "stream",
          "name": "stdout",
          "text": [
            "Filtered Sentence: example sentence demonstrating removal stopwords .\n"
          ]
        },
        {
          "output_type": "stream",
          "name": "stderr",
          "text": [
            "[nltk_data] Downloading package stopwords to /root/nltk_data...\n",
            "[nltk_data]   Unzipping corpora/stopwords.zip.\n"
          ]
        }
      ]
    },
    {
      "cell_type": "markdown",
      "source": [
        "4.  How can you perform stemming on a word ?"
      ],
      "metadata": {
        "id": "_HM3GMhDxs66"
      }
    },
    {
      "cell_type": "code",
      "source": [
        "from nltk.stem import PorterStemmer\n",
        "\n",
        "# initialize the Porter Stemmer\n",
        "\n",
        "stemmer = PorterStemmer()\n",
        "\n",
        "# Define the word to be stemmed\n",
        "word = \"running\"\n",
        "\n",
        "# Perform stemming\n",
        "stemmed_word = stemmer.stem(word)\n",
        "\n",
        "# Print the stemmed word\n",
        "print(f\"Original word: {word}\")\n",
        "print(f\"Stemmed word: {stemmed_word}\")"
      ],
      "metadata": {
        "colab": {
          "base_uri": "https://localhost:8080/"
        },
        "id": "WQhHD0fwxsNQ",
        "outputId": "f6d5ec04-d01c-4af9-85dc-f4e239404881"
      },
      "execution_count": 13,
      "outputs": [
        {
          "output_type": "stream",
          "name": "stdout",
          "text": [
            "Original word: running\n",
            "Stemmed word: run\n"
          ]
        }
      ]
    },
    {
      "cell_type": "markdown",
      "source": [
        "5.  How can you perform lemmatization on a word ?\n"
      ],
      "metadata": {
        "id": "I8pzHkOoyVaP"
      }
    },
    {
      "cell_type": "code",
      "source": [
        "import nltk\n",
        "from nltk.stem import WordNetLemmatizer\n",
        "\n",
        "# Download the WordNet data if not already available\n",
        "nltk.download('wordnet')\n",
        "# Initialize the WordNet Lemmatizer\n",
        "lemmatizer = WordNetLemmatizer()\n",
        "\n",
        "# Example words\n",
        "\n",
        "word1 = \"runing\"\n",
        "\n",
        "word2 = \"better\"\n",
        "\n",
        "#Perform lemmatization\n",
        "\n",
        "lemmatized_word1 = lemmatizer.lemmatize(word1)\n",
        "lemmatized_word2 = lemmatizer.lemmatize(word2)\n",
        "\n",
        "# print the lemmatized words\n",
        "\n",
        "print(f\"Original word: {word1}\")\n",
        "print(f\"Lemmatized word: {lemmatized_word1}\")\n",
        "\n",
        "print(f\"Original word: {word2}\")\n",
        "print(f\"Lemmatized word: {lemmatized_word2}\")"
      ],
      "metadata": {
        "colab": {
          "base_uri": "https://localhost:8080/"
        },
        "id": "vb1y-qqswQBW",
        "outputId": "3bb15609-a9ac-478d-d37f-eef03f4ed672"
      },
      "execution_count": 14,
      "outputs": [
        {
          "output_type": "stream",
          "name": "stderr",
          "text": [
            "[nltk_data] Downloading package wordnet to /root/nltk_data...\n"
          ]
        },
        {
          "output_type": "stream",
          "name": "stdout",
          "text": [
            "Original word: runing\n",
            "Lemmatized word: runing\n",
            "Original word: better\n",
            "Lemmatized word: better\n"
          ]
        }
      ]
    },
    {
      "cell_type": "markdown",
      "source": [
        "6. How can you normalize a text by converting it to lowercase and removing punctuation ?"
      ],
      "metadata": {
        "id": "WRIsdgfS2l_P"
      }
    },
    {
      "cell_type": "code",
      "source": [
        "import string\n",
        "\n",
        "# Sample text\n",
        "\n",
        "text = \"Hello, World! This is an example text; with punctuation.\"\n",
        "\n",
        "# Convert text to lowercase\n",
        "text_lowercase = text.lower()\n",
        "\n",
        "# Remove punctuation\n",
        "text_normalized =  text_without_punctuation = text_lowercase.translate(str.maketrans(\"\", \"\", string.punctuation))\n",
        "\n",
        "# Print the normalized text\n",
        "print(f\"Normalized Text: {text_normalized}\")"
      ],
      "metadata": {
        "colab": {
          "base_uri": "https://localhost:8080/"
        },
        "id": "DLvP9OsC2ime",
        "outputId": "773239d2-2a8d-4078-e9e3-9702d27fe5fc"
      },
      "execution_count": 15,
      "outputs": [
        {
          "output_type": "stream",
          "name": "stdout",
          "text": [
            "Normalized Text: hello world this is an example text with punctuation\n"
          ]
        }
      ]
    },
    {
      "cell_type": "markdown",
      "source": [
        "7. : How can you create a co-occurrence matrix for words in a corpus ?\n",
        "\n"
      ],
      "metadata": {
        "id": "ouXcpBMJ3dQu"
      }
    },
    {
      "cell_type": "code",
      "source": [
        "import nltk\n",
        "from nltk.tokenize import word_tokenize\n",
        "import pandas as pd\n",
        "import numpy as np\n",
        "from collections import defaultdict\n",
        "\n",
        "# Set a custom NLTK data path (in Colab)\n",
        "nltk.data.path.append('/root/nltk_data')\n",
        "\n",
        "# Download the necessary NLTK resources\n",
        "nltk.download('punkt', download_dir='/root/nltk_data')\n",
        "nltk.download('punkt_tab', download_dir='/root/nltk_data')\n",
        "\n",
        "\n",
        "# Sample text (corpus)\n",
        "corpus = \"I love programming in Python. Python is great for machine learning. Machine learning is fun.\"\n",
        "\n",
        "# Tokenize the text\n",
        "tokens = word_tokenize(corpus.lower())  # Convert to lowercase for uniformity\n",
        "\n",
        "# Define the context window size (let's take a window of 2 words)\n",
        "window_size = 2\n",
        "\n",
        "# Initialize a defaultdict to hold co-occurrence counts\n",
        "co_occurrence = defaultdict(lambda: defaultdict(int))\n",
        "\n",
        "# Create the co-occurrence matrix\n",
        "for i, word in enumerate(tokens):\n",
        "    # Consider words within the window size around the current word\n",
        "    for j in range(1, window_size + 1):\n",
        "        if i - j >= 0:\n",
        "            co_occurrence[word][tokens[i - j]] += 1\n",
        "        if i + j < len(tokens):\n",
        "            co_occurrence[word][tokens[i + j]] += 1\n",
        "\n",
        "# Convert the co-occurrence dictionary into a pandas DataFrame\n",
        "# Convert defaultdict to a standard dict for easier handling by pandas\n",
        "co_occurrence_matrix = pd.DataFrame(co_occurrence).fillna(0).astype(int)\n",
        "\n",
        "# Display the co-occurrence matrix\n",
        "print(co_occurrence_matrix)\n"
      ],
      "metadata": {
        "colab": {
          "base_uri": "https://localhost:8080/"
        },
        "id": "Arel7wjI3MNg",
        "outputId": "e71bcce4-3889-49dd-a883-a7f647989e4c"
      },
      "execution_count": 16,
      "outputs": [
        {
          "output_type": "stream",
          "name": "stdout",
          "text": [
            "             i  love  programming  in  python  .  is  great  for  machine  \\\n",
            "love         1     0            1   1       0  0   0      0    0        0   \n",
            "programming  1     1            0   1       1  0   0      0    0        0   \n",
            "i            0     1            1   0       0  0   0      0    0        0   \n",
            "in           0     1            1   0       1  1   0      0    0        0   \n",
            "python       0     0            1   1       2  2   1      1    0        0   \n",
            ".            0     0            0   1       2  0   2      0    0        2   \n",
            "is           0     0            0   0       1  2   0      1    1        1   \n",
            "great        0     0            0   0       1  0   1      0    1        1   \n",
            "learning     0     0            0   0       0  2   1      0    1        3   \n",
            "machine      0     0            0   0       0  2   1      1    1        0   \n",
            "fun          0     0            0   0       0  1   1      0    0        0   \n",
            "for          0     0            0   0       0  0   1      1    0        1   \n",
            "\n",
            "             learning  fun  \n",
            "love                0    0  \n",
            "programming         0    0  \n",
            "i                   0    0  \n",
            "in                  0    0  \n",
            "python              0    0  \n",
            ".                   2    1  \n",
            "is                  1    1  \n",
            "great               0    0  \n",
            "learning            0    1  \n",
            "machine             3    0  \n",
            "fun                 1    0  \n",
            "for                 1    0  \n"
          ]
        },
        {
          "output_type": "stream",
          "name": "stderr",
          "text": [
            "[nltk_data] Downloading package punkt to /root/nltk_data...\n",
            "[nltk_data]   Package punkt is already up-to-date!\n",
            "[nltk_data] Downloading package punkt_tab to /root/nltk_data...\n",
            "[nltk_data]   Package punkt_tab is already up-to-date!\n"
          ]
        }
      ]
    },
    {
      "cell_type": "markdown",
      "source": [
        "8. : How can you apply a regular expression to extract all email addresses from a text ?\n"
      ],
      "metadata": {
        "id": "ivTMuNoq5GAJ"
      }
    },
    {
      "cell_type": "code",
      "source": [
        "import re\n",
        "\n",
        "# Sample text containing email addresses\n",
        "text = \"\"\"\n",
        "Here are some email addresses:\n",
        "alice@example.com\n",
        "bob.smith123@domain.org\n",
        "contact@mywebsite.net\n",
        "Invalid email: john.doe@com\n",
        "\"\"\"\n",
        "\n",
        "# Regular expression pattern for matching email addresses\n",
        "email_pattern = r'[a-zA-Z0-9._%+-]+@[a-zA-Z0-9.-]+\\.[a-zA-Z]{2,}'\n",
        "\n",
        "# Use re.findall() to find all email addresses in the text\n",
        "emails = re.findall(email_pattern, text)\n",
        "\n",
        "# Print the extracted emails\n",
        "print(\"Extracted email addresses:\", emails)\n"
      ],
      "metadata": {
        "colab": {
          "base_uri": "https://localhost:8080/"
        },
        "id": "QJm_9A2i4iao",
        "outputId": "42950192-64cc-4faa-91ee-6018115158a7"
      },
      "execution_count": 17,
      "outputs": [
        {
          "output_type": "stream",
          "name": "stdout",
          "text": [
            "Extracted email addresses: ['alice@example.com', 'bob.smith123@domain.org', 'contact@mywebsite.net']\n"
          ]
        }
      ]
    },
    {
      "cell_type": "markdown",
      "source": [
        "9. How can you perform word embedding using Word2Vec"
      ],
      "metadata": {
        "id": "Bxxmi8c0RbQf"
      }
    },
    {
      "cell_type": "code",
      "source": [
        "!pip install gensim"
      ],
      "metadata": {
        "id": "QgBYcxpQ5jl6",
        "colab": {
          "base_uri": "https://localhost:8080/"
        },
        "outputId": "4f26e241-4ef3-4ecb-acc0-c9bb8a27ea8b"
      },
      "execution_count": 18,
      "outputs": [
        {
          "output_type": "stream",
          "name": "stdout",
          "text": [
            "Requirement already satisfied: gensim in /usr/local/lib/python3.10/dist-packages (4.3.3)\n",
            "Requirement already satisfied: numpy<2.0,>=1.18.5 in /usr/local/lib/python3.10/dist-packages (from gensim) (1.26.4)\n",
            "Requirement already satisfied: scipy<1.14.0,>=1.7.0 in /usr/local/lib/python3.10/dist-packages (from gensim) (1.13.1)\n",
            "Requirement already satisfied: smart-open>=1.8.1 in /usr/local/lib/python3.10/dist-packages (from gensim) (7.1.0)\n",
            "Requirement already satisfied: wrapt in /usr/local/lib/python3.10/dist-packages (from smart-open>=1.8.1->gensim) (1.17.0)\n"
          ]
        }
      ]
    },
    {
      "cell_type": "code",
      "source": [
        "from gensim.models import Word2Vec\n",
        "from nltk.tokenize import word_tokenize\n",
        "from gensim.models.word2vec import Text8Corpus\n",
        "\n",
        "# Sample text (corpus)\n",
        "corpus = [\n",
        "    [\"king\", \"queen\", \"man\", \"woman\"],\n",
        "    [\"man\", \"works\", \"at\", \"a\", \"factory\"],\n",
        "    [\"queen\", \"rules\", \"the\", \"kingdom\"],\n",
        "    [\"woman\", \"cooks\", \"in\", \"the\", \"kitchen\"],\n",
        "    [\"man\", \"and\", \"woman\", \"are\", \"human\"]\n",
        "]\n",
        "\n",
        "\n",
        "# train Word2Vec model\n",
        "\n",
        "model = Word2Vec(sentences=corpus, vector_size=100, window=5, min_count=1, sg=0)\n",
        "\n",
        "\n",
        "# Access word vector for \"king\"\n",
        "\n",
        "king_vector = model.wv['king']\n",
        "\n",
        "# Print the vector representation of \"king\"\n",
        "print(\"Word Vector for 'king':\")\n",
        "print(king_vector)\n",
        "\n",
        "\n",
        "# Find similar words to \"king\"\n",
        "similar_words = model.wv.most_similar(\"king\", topn=5)\n",
        "print(f\"Words similar to 'king':\\n{similar_words}\")\n",
        "\n",
        "\n",
        "# Save model for later use\n",
        "\n",
        "model.save(\"word2vec.model\")\n",
        "\n",
        "\n",
        "#load the saved model\n",
        "\n",
        "loaded_model = Word2Vec.load(\"word2vec.model\")\n",
        "\n"
      ],
      "metadata": {
        "colab": {
          "base_uri": "https://localhost:8080/"
        },
        "id": "6e16OTXXRpxY",
        "outputId": "2e970d8a-2451-42de-9b6c-1c64947e2970"
      },
      "execution_count": 19,
      "outputs": [
        {
          "output_type": "stream",
          "name": "stdout",
          "text": [
            "Word Vector for 'king':\n",
            "[ 1.30016683e-03 -9.80430283e-03  4.58776252e-03 -5.38222783e-04\n",
            "  6.33209571e-03  1.78347470e-03 -3.12979822e-03  7.75997294e-03\n",
            "  1.55466562e-03  5.52093989e-05 -4.61295387e-03 -8.45352374e-03\n",
            " -7.76683213e-03  8.67050979e-03 -8.92496016e-03  9.03471559e-03\n",
            " -9.28101782e-03 -2.76756298e-04 -1.90704700e-03 -8.93114600e-03\n",
            "  8.63005966e-03  6.77781366e-03  3.01943906e-03  4.83345287e-03\n",
            "  1.12190246e-04  9.42468084e-03  7.02128746e-03 -9.85372625e-03\n",
            " -4.43322072e-03 -1.29011157e-03  3.04772262e-03 -4.32395237e-03\n",
            "  1.44916656e-03 -7.84589909e-03  2.77807354e-03  4.70269192e-03\n",
            "  4.93731257e-03 -3.17570218e-03 -8.42704065e-03 -9.22061782e-03\n",
            " -7.22899451e-04 -7.32746487e-03 -6.81496272e-03  6.12000562e-03\n",
            "  7.17230327e-03  2.11741915e-03 -7.89940078e-03 -5.69898821e-03\n",
            "  8.05184525e-03  3.92084382e-03 -5.24047017e-03 -7.39190448e-03\n",
            "  7.71554711e-04  3.46375466e-03  2.07919348e-03  3.10080405e-03\n",
            " -5.62050007e-03 -9.88948625e-03 -7.02083716e-03  2.30308768e-04\n",
            "  4.61867917e-03  4.52630781e-03  1.87981245e-03  5.17067453e-03\n",
            " -1.05360748e-04  4.11416637e-03 -9.12324060e-03  7.70091172e-03\n",
            "  6.14747405e-03  5.12415636e-03  7.20666908e-03  8.43979698e-03\n",
            "  7.38695846e-04 -1.70386070e-03  5.18628338e-04 -9.31678060e-03\n",
            "  8.40621442e-03 -6.37993217e-03  8.42784252e-03 -4.24435502e-03\n",
            "  6.46842702e-04 -9.16416850e-03 -9.55856778e-03 -7.83681031e-03\n",
            " -7.73105631e-03  3.75581993e-04 -7.22646248e-03 -4.95021325e-03\n",
            " -5.27170673e-03 -4.28929785e-03  7.01231137e-03  4.82938997e-03\n",
            "  8.68277065e-03  7.09359162e-03 -5.69440611e-03  7.24079600e-03\n",
            " -9.29490291e-03 -2.58756871e-03 -7.75716640e-03  4.19260142e-03]\n",
            "Words similar to 'king':\n",
            "[('man', 0.21883949637413025), ('at', 0.1747603565454483), ('works', 0.16378773748874664), ('human', 0.10852649062871933), ('and', 0.065447136759758)]\n"
          ]
        }
      ]
    },
    {
      "cell_type": "markdown",
      "source": [
        "10. How can you use Doc2Vec to embed documents"
      ],
      "metadata": {
        "id": "ZdCHGp4sTS5l"
      }
    },
    {
      "cell_type": "code",
      "source": [
        "from gensim.models.doc2vec import Doc2Vec, TaggedDocument\n",
        "from nltk.tokenize import word_tokenize\n",
        "import nltk\n",
        "\n",
        "# Download NLTK punkt tokenizer if not already downloaded\n",
        "nltk.download('punkt')\n",
        "\n",
        "\n",
        "#Sample corpus\n",
        "\n",
        "documents = [\n",
        "    \"Machine learning is amazing.\",\n",
        "    \"Natural language processing is a branch of AI.\",\n",
        "    \"AI is transforming the world.\",\n",
        "    \"Deep learning is a subset of machine learning.\",\n",
        "    \"Doc2Vec is used for document embeddings.\"\n",
        "]\n",
        "\n",
        "\n",
        "# Tokenize and label the documents\n",
        "\n",
        "tagged_data = [\n",
        "    TaggedDocument(words=word_tokenize(doc.lower()), tags=[f\"DOC_{i}\"])\n",
        "    for i, doc in enumerate(documents)\n",
        "]\n",
        "\n",
        "\n",
        "# train a Doc2Vec model\n",
        "\n",
        "model = Doc2Vec(\n",
        "    tagged_data,\n",
        "    vector_size=100,\n",
        "    min_count=1,\n",
        "    epochs=50,\n",
        "    workers=4,\n",
        "     window=2\n",
        "    )\n",
        "model.build_vocab(tagged_data)\n",
        "\n",
        "\n",
        "# Saave model\n",
        "model.save(\"doc2vec_model.model\")\n",
        "\n",
        "# Load the saved model\n",
        "loaded_model = Doc2Vec.load(\"doc2vec_model.model\")\n",
        "\n",
        "# Get the vector for a specific document\n",
        "doc_vector = model.dv[\"DOC_0\"]\n",
        "print(f\"Vector for 'DOC_0':\\n{doc_vector}\")\n",
        "\n",
        "# Infer vector for a new document\n",
        "new_doc = \"AI and machine learning are closely related.\"\n",
        "new_doc_vector = model.infer_vector(word_tokenize(new_doc.lower()))\n",
        "print(f\"Vector for new document:\\n{new_doc_vector}\")\n",
        "\n",
        "# Find most similar documents\n",
        "similar_docs = model.dv.most_similar(\"DOC_0\", topn=3)\n",
        "print(f\"Documents similar to 'DOC_0':\\n{similar_docs}\")\n",
        "\n"
      ],
      "metadata": {
        "colab": {
          "base_uri": "https://localhost:8080/"
        },
        "id": "S352Q2jxS7D8",
        "outputId": "a7f87567-be5b-45ce-e6d9-5b27357dbc23"
      },
      "execution_count": 20,
      "outputs": [
        {
          "output_type": "stream",
          "name": "stderr",
          "text": [
            "[nltk_data] Downloading package punkt to /root/nltk_data...\n",
            "[nltk_data]   Package punkt is already up-to-date!\n",
            "WARNING:gensim.models.keyedvectors:sorting after vectors have been allocated is expensive & error-prone\n"
          ]
        },
        {
          "output_type": "stream",
          "name": "stdout",
          "text": [
            "Vector for 'DOC_0':\n",
            "[-5.5924756e-03 -6.1064921e-03 -9.9279443e-03  8.7000988e-03\n",
            "  3.4882522e-03  3.9608305e-05 -9.8414272e-03 -4.7999886e-03\n",
            " -9.6850116e-03  2.0647438e-03  2.7326357e-03  4.4508497e-03\n",
            " -4.2519574e-03 -3.0590002e-03 -2.8510843e-03 -8.7746941e-03\n",
            "  2.0321361e-03  9.3617914e-03 -9.5514180e-03 -3.3514325e-03\n",
            " -3.8824503e-03  2.6998443e-03 -5.5948212e-03  2.7830843e-03\n",
            "  5.5910419e-03 -7.9365689e-03 -8.5106147e-03 -9.9456245e-03\n",
            "  4.8632212e-03 -9.1892956e-03  5.9957039e-03  6.8360823e-03\n",
            " -6.4596590e-03 -4.3887571e-03 -1.3399295e-03  1.8078681e-03\n",
            " -1.6466437e-03 -8.7092649e-03 -3.6623992e-03  1.6151384e-03\n",
            " -2.0226457e-03 -7.0268135e-03  4.0650265e-03 -8.6795706e-03\n",
            "  2.4621002e-03 -4.6568266e-03  6.8852975e-04 -1.9741494e-03\n",
            "  5.3424500e-03 -8.0352752e-03 -2.2788488e-03 -2.2330205e-04\n",
            " -6.6134892e-03 -6.5467930e-03 -2.1127339e-03  8.8340724e-03\n",
            " -1.1276230e-03  3.6962440e-03 -5.9125875e-03  8.8948039e-03\n",
            "  3.1916802e-03  9.4962809e-03  4.5467317e-03 -4.1722418e-03\n",
            "  2.2905639e-03 -4.2475113e-03  5.9172981e-03  2.0160947e-03\n",
            " -2.3236512e-03 -5.8454117e-03 -8.0595277e-03 -9.1321103e-04\n",
            " -9.0125594e-03 -9.1944495e-03 -7.7012489e-03  2.3770486e-03\n",
            " -6.3773235e-03 -8.0908192e-03  2.0268497e-03  1.9138406e-03\n",
            "  8.1396941e-03  4.8196842e-03 -9.7018275e-03 -4.1669654e-04\n",
            "  7.7478839e-03  2.8236953e-03  2.6497508e-03 -5.0615887e-03\n",
            "  6.3690310e-03  1.7648129e-03 -7.7800904e-03  6.8574878e-03\n",
            " -9.8491907e-03 -8.2034180e-03 -4.8246058e-03  1.0179154e-02\n",
            "  2.9824551e-03 -1.8691311e-03  9.0230601e-03  2.3238135e-03]\n",
            "Vector for new document:\n",
            "[ 3.3869289e-03  3.3654391e-03 -3.0765668e-03  4.7922288e-03\n",
            " -3.3270598e-03 -1.9204700e-03  5.1524700e-04  1.2709284e-03\n",
            " -6.0786842e-04 -3.4620930e-03  9.3563437e-04  2.1712726e-03\n",
            "  4.3566949e-03  1.8482781e-03 -1.2516966e-03 -4.3466780e-03\n",
            "  1.8553155e-03  1.6498875e-03  2.6557846e-03  1.9400078e-03\n",
            " -3.1777215e-03 -4.1435235e-03  1.9525295e-03 -1.7831404e-03\n",
            " -2.7085273e-04 -3.8715629e-04 -2.1264912e-03  4.0099933e-03\n",
            "  2.8222830e-03  2.9847967e-03  4.8752720e-03 -2.5770158e-04\n",
            "  4.4149309e-03  1.4722926e-03  4.1785878e-03 -4.8458837e-03\n",
            " -4.7145514e-03  1.9568659e-03  3.5898280e-03 -2.2472360e-03\n",
            "  4.2164139e-03  4.8571164e-03  2.3977500e-03 -2.7054874e-03\n",
            "  3.7462222e-03  3.5350644e-03  2.7107596e-04 -2.5960845e-03\n",
            " -1.2505817e-03  2.2325916e-03 -3.7326710e-03  1.1711675e-03\n",
            " -4.3991804e-03 -1.7936843e-03 -1.3900680e-03 -6.8517239e-04\n",
            " -3.3864237e-03  3.0264782e-03 -3.8190633e-03 -3.4409121e-03\n",
            "  3.6921948e-03 -3.7352187e-03 -2.8907387e-03 -1.3010352e-04\n",
            " -8.2471489e-04 -4.9571693e-03  1.3067204e-03  1.0963464e-03\n",
            "  4.0309210e-03  4.8277434e-03 -3.0954618e-03  1.5951156e-04\n",
            "  5.1272986e-04 -2.7557444e-03  7.5783493e-04  3.2634198e-04\n",
            " -1.1071851e-03  1.1812907e-03  2.3235250e-03 -2.2519648e-04\n",
            " -3.7371942e-03 -3.4216994e-03 -6.0487688e-05 -1.2315724e-03\n",
            "  2.9663622e-04  4.6712859e-03 -2.1143645e-04 -3.7218721e-04\n",
            " -9.3979953e-04  1.7976004e-03  9.8511809e-04 -4.7992482e-03\n",
            "  5.5922213e-04  4.8330091e-03 -2.1928549e-04 -2.3485543e-03\n",
            " -1.8488761e-03  1.7388826e-03  3.7106776e-03 -7.1271422e-04]\n",
            "Documents similar to 'DOC_0':\n",
            "[('DOC_1', 0.18031078577041626), ('DOC_2', 0.020948823541402817), ('DOC_3', 0.009550371207296848)]\n"
          ]
        }
      ]
    },
    {
      "cell_type": "markdown",
      "source": [
        "11.  How can you perform part-of-speech tagging?"
      ],
      "metadata": {
        "id": "Uz-mVUlAVK-e"
      }
    },
    {
      "cell_type": "code",
      "source": [
        "rm -rf ~/nltk_data\n"
      ],
      "metadata": {
        "id": "fTmbDkRVVwc5"
      },
      "execution_count": 21,
      "outputs": []
    },
    {
      "cell_type": "code",
      "source": [
        "import nltk\n",
        "nltk.download('averaged_perceptron_tagger')\n",
        "nltk.download('punkt')\n"
      ],
      "metadata": {
        "colab": {
          "base_uri": "https://localhost:8080/"
        },
        "id": "sZyA-nPgWOSd",
        "outputId": "82d22dfa-93c6-44cb-b596-eb5d2fa0282d"
      },
      "execution_count": 22,
      "outputs": [
        {
          "output_type": "stream",
          "name": "stderr",
          "text": [
            "[nltk_data] Downloading package averaged_perceptron_tagger to\n",
            "[nltk_data]     /root/nltk_data...\n",
            "[nltk_data]   Unzipping taggers/averaged_perceptron_tagger.zip.\n",
            "[nltk_data] Downloading package punkt to /root/nltk_data...\n",
            "[nltk_data]   Package punkt is already up-to-date!\n"
          ]
        },
        {
          "output_type": "execute_result",
          "data": {
            "text/plain": [
              "True"
            ]
          },
          "metadata": {},
          "execution_count": 22
        }
      ]
    },
    {
      "cell_type": "code",
      "source": [
        "import nltk\n",
        "print(nltk.data.path)\n"
      ],
      "metadata": {
        "colab": {
          "base_uri": "https://localhost:8080/"
        },
        "id": "rxIdrqqxWUiI",
        "outputId": "007e27be-d0d9-4bd1-93f7-6b23f6d10e13"
      },
      "execution_count": 23,
      "outputs": [
        {
          "output_type": "stream",
          "name": "stdout",
          "text": [
            "['/root/nltk_data', '/usr/nltk_data', '/usr/share/nltk_data', '/usr/lib/nltk_data', '/usr/share/nltk_data', '/usr/local/share/nltk_data', '/usr/lib/nltk_data', '/usr/local/lib/nltk_data', '/root/nltk_data', '/root/nltk_data', '/root/nltk_data', '/root/nltk_data']\n"
          ]
        }
      ]
    },
    {
      "cell_type": "code",
      "source": [
        "import nltk\n",
        "nltk.data.path.append('/usr/local/nltk_data')  # Adjust path as necessary\n",
        "nltk.download('averaged_perceptron_tagger', download_dir='/usr/local/nltk_data')\n"
      ],
      "metadata": {
        "colab": {
          "base_uri": "https://localhost:8080/"
        },
        "id": "3VmhudOqWdv-",
        "outputId": "16573ccb-692f-4bee-ab20-eb82830b3eca"
      },
      "execution_count": 24,
      "outputs": [
        {
          "output_type": "stream",
          "name": "stderr",
          "text": [
            "[nltk_data] Downloading package averaged_perceptron_tagger to\n",
            "[nltk_data]     /usr/local/nltk_data...\n",
            "[nltk_data]   Package averaged_perceptron_tagger is already up-to-\n",
            "[nltk_data]       date!\n"
          ]
        },
        {
          "output_type": "execute_result",
          "data": {
            "text/plain": [
              "True"
            ]
          },
          "metadata": {},
          "execution_count": 24
        }
      ]
    },
    {
      "cell_type": "code",
      "source": [
        "import nltk\n",
        "\n",
        "# Example sentence\n",
        "sentence = \"Natural language processing is fascinating.\"\n",
        "\n",
        "# Tokenize the sentence\n",
        "tokens = nltk.word_tokenize(sentence)\n",
        "\n",
        "# Perform POS tagging\n",
        "pos_tags = nltk.pos_tag(tokens)\n",
        "\n",
        "# Print the tokens with POS tags\n",
        "print(\"Tokens with POS tags:\")\n",
        "for word, tag in pos_tags:\n",
        "    print(f\"{word} -> {tag}\")\n"
      ],
      "metadata": {
        "colab": {
          "base_uri": "https://localhost:8080/",
          "height": 807
        },
        "id": "boBrMp_1WgQU",
        "outputId": "46010158-8688-45fa-a43f-3683f3caef47"
      },
      "execution_count": 25,
      "outputs": [
        {
          "output_type": "error",
          "ename": "LookupError",
          "evalue": "\n**********************************************************************\n  Resource \u001b[93maveraged_perceptron_tagger_eng\u001b[0m not found.\n  Please use the NLTK Downloader to obtain the resource:\n\n  \u001b[31m>>> import nltk\n  >>> nltk.download('averaged_perceptron_tagger_eng')\n  \u001b[0m\n  For more information see: https://www.nltk.org/data.html\n\n  Attempted to load \u001b[93mtaggers/averaged_perceptron_tagger_eng/\u001b[0m\n\n  Searched in:\n    - '/root/nltk_data'\n    - '/usr/nltk_data'\n    - '/usr/share/nltk_data'\n    - '/usr/lib/nltk_data'\n    - '/usr/share/nltk_data'\n    - '/usr/local/share/nltk_data'\n    - '/usr/lib/nltk_data'\n    - '/usr/local/lib/nltk_data'\n    - '/root/nltk_data'\n    - '/root/nltk_data'\n    - '/root/nltk_data'\n    - '/root/nltk_data'\n    - '/usr/local/nltk_data'\n**********************************************************************\n",
          "traceback": [
            "\u001b[0;31m---------------------------------------------------------------------------\u001b[0m",
            "\u001b[0;31mLookupError\u001b[0m                               Traceback (most recent call last)",
            "\u001b[0;32m<ipython-input-25-e4340aab8505>\u001b[0m in \u001b[0;36m<cell line: 10>\u001b[0;34m()\u001b[0m\n\u001b[1;32m      8\u001b[0m \u001b[0;34m\u001b[0m\u001b[0m\n\u001b[1;32m      9\u001b[0m \u001b[0;31m# Perform POS tagging\u001b[0m\u001b[0;34m\u001b[0m\u001b[0;34m\u001b[0m\u001b[0m\n\u001b[0;32m---> 10\u001b[0;31m \u001b[0mpos_tags\u001b[0m \u001b[0;34m=\u001b[0m \u001b[0mnltk\u001b[0m\u001b[0;34m.\u001b[0m\u001b[0mpos_tag\u001b[0m\u001b[0;34m(\u001b[0m\u001b[0mtokens\u001b[0m\u001b[0;34m)\u001b[0m\u001b[0;34m\u001b[0m\u001b[0;34m\u001b[0m\u001b[0m\n\u001b[0m\u001b[1;32m     11\u001b[0m \u001b[0;34m\u001b[0m\u001b[0m\n\u001b[1;32m     12\u001b[0m \u001b[0;31m# Print the tokens with POS tags\u001b[0m\u001b[0;34m\u001b[0m\u001b[0;34m\u001b[0m\u001b[0m\n",
            "\u001b[0;32m/usr/local/lib/python3.10/dist-packages/nltk/tag/__init__.py\u001b[0m in \u001b[0;36mpos_tag\u001b[0;34m(tokens, tagset, lang)\u001b[0m\n\u001b[1;32m    166\u001b[0m     \u001b[0;34m:\u001b[0m\u001b[0mrtype\u001b[0m\u001b[0;34m:\u001b[0m \u001b[0mlist\u001b[0m\u001b[0;34m(\u001b[0m\u001b[0mtuple\u001b[0m\u001b[0;34m(\u001b[0m\u001b[0mstr\u001b[0m\u001b[0;34m,\u001b[0m \u001b[0mstr\u001b[0m\u001b[0;34m)\u001b[0m\u001b[0;34m)\u001b[0m\u001b[0;34m\u001b[0m\u001b[0;34m\u001b[0m\u001b[0m\n\u001b[1;32m    167\u001b[0m     \"\"\"\n\u001b[0;32m--> 168\u001b[0;31m     \u001b[0mtagger\u001b[0m \u001b[0;34m=\u001b[0m \u001b[0m_get_tagger\u001b[0m\u001b[0;34m(\u001b[0m\u001b[0mlang\u001b[0m\u001b[0;34m)\u001b[0m\u001b[0;34m\u001b[0m\u001b[0;34m\u001b[0m\u001b[0m\n\u001b[0m\u001b[1;32m    169\u001b[0m     \u001b[0;32mreturn\u001b[0m \u001b[0m_pos_tag\u001b[0m\u001b[0;34m(\u001b[0m\u001b[0mtokens\u001b[0m\u001b[0;34m,\u001b[0m \u001b[0mtagset\u001b[0m\u001b[0;34m,\u001b[0m \u001b[0mtagger\u001b[0m\u001b[0;34m,\u001b[0m \u001b[0mlang\u001b[0m\u001b[0;34m)\u001b[0m\u001b[0;34m\u001b[0m\u001b[0;34m\u001b[0m\u001b[0m\n\u001b[1;32m    170\u001b[0m \u001b[0;34m\u001b[0m\u001b[0m\n",
            "\u001b[0;32m/usr/local/lib/python3.10/dist-packages/nltk/tag/__init__.py\u001b[0m in \u001b[0;36m_get_tagger\u001b[0;34m(lang)\u001b[0m\n\u001b[1;32m    108\u001b[0m         \u001b[0mtagger\u001b[0m \u001b[0;34m=\u001b[0m \u001b[0mPerceptronTagger\u001b[0m\u001b[0;34m(\u001b[0m\u001b[0mlang\u001b[0m\u001b[0;34m=\u001b[0m\u001b[0mlang\u001b[0m\u001b[0;34m)\u001b[0m\u001b[0;34m\u001b[0m\u001b[0;34m\u001b[0m\u001b[0m\n\u001b[1;32m    109\u001b[0m     \u001b[0;32melse\u001b[0m\u001b[0;34m:\u001b[0m\u001b[0;34m\u001b[0m\u001b[0;34m\u001b[0m\u001b[0m\n\u001b[0;32m--> 110\u001b[0;31m         \u001b[0mtagger\u001b[0m \u001b[0;34m=\u001b[0m \u001b[0mPerceptronTagger\u001b[0m\u001b[0;34m(\u001b[0m\u001b[0;34m)\u001b[0m\u001b[0;34m\u001b[0m\u001b[0;34m\u001b[0m\u001b[0m\n\u001b[0m\u001b[1;32m    111\u001b[0m     \u001b[0;32mreturn\u001b[0m \u001b[0mtagger\u001b[0m\u001b[0;34m\u001b[0m\u001b[0;34m\u001b[0m\u001b[0m\n\u001b[1;32m    112\u001b[0m \u001b[0;34m\u001b[0m\u001b[0m\n",
            "\u001b[0;32m/usr/local/lib/python3.10/dist-packages/nltk/tag/perceptron.py\u001b[0m in \u001b[0;36m__init__\u001b[0;34m(self, load, lang)\u001b[0m\n\u001b[1;32m    181\u001b[0m         \u001b[0mself\u001b[0m\u001b[0;34m.\u001b[0m\u001b[0mclasses\u001b[0m \u001b[0;34m=\u001b[0m \u001b[0mset\u001b[0m\u001b[0;34m(\u001b[0m\u001b[0;34m)\u001b[0m\u001b[0;34m\u001b[0m\u001b[0;34m\u001b[0m\u001b[0m\n\u001b[1;32m    182\u001b[0m         \u001b[0;32mif\u001b[0m \u001b[0mload\u001b[0m\u001b[0;34m:\u001b[0m\u001b[0;34m\u001b[0m\u001b[0;34m\u001b[0m\u001b[0m\n\u001b[0;32m--> 183\u001b[0;31m             \u001b[0mself\u001b[0m\u001b[0;34m.\u001b[0m\u001b[0mload_from_json\u001b[0m\u001b[0;34m(\u001b[0m\u001b[0mlang\u001b[0m\u001b[0;34m)\u001b[0m\u001b[0;34m\u001b[0m\u001b[0;34m\u001b[0m\u001b[0m\n\u001b[0m\u001b[1;32m    184\u001b[0m \u001b[0;34m\u001b[0m\u001b[0m\n\u001b[1;32m    185\u001b[0m     \u001b[0;32mdef\u001b[0m \u001b[0mtag\u001b[0m\u001b[0;34m(\u001b[0m\u001b[0mself\u001b[0m\u001b[0;34m,\u001b[0m \u001b[0mtokens\u001b[0m\u001b[0;34m,\u001b[0m \u001b[0mreturn_conf\u001b[0m\u001b[0;34m=\u001b[0m\u001b[0;32mFalse\u001b[0m\u001b[0;34m,\u001b[0m \u001b[0muse_tagdict\u001b[0m\u001b[0;34m=\u001b[0m\u001b[0;32mTrue\u001b[0m\u001b[0;34m)\u001b[0m\u001b[0;34m:\u001b[0m\u001b[0;34m\u001b[0m\u001b[0;34m\u001b[0m\u001b[0m\n",
            "\u001b[0;32m/usr/local/lib/python3.10/dist-packages/nltk/tag/perceptron.py\u001b[0m in \u001b[0;36mload_from_json\u001b[0;34m(self, lang)\u001b[0m\n\u001b[1;32m    271\u001b[0m     \u001b[0;32mdef\u001b[0m \u001b[0mload_from_json\u001b[0m\u001b[0;34m(\u001b[0m\u001b[0mself\u001b[0m\u001b[0;34m,\u001b[0m \u001b[0mlang\u001b[0m\u001b[0;34m=\u001b[0m\u001b[0;34m\"eng\"\u001b[0m\u001b[0;34m)\u001b[0m\u001b[0;34m:\u001b[0m\u001b[0;34m\u001b[0m\u001b[0;34m\u001b[0m\u001b[0m\n\u001b[1;32m    272\u001b[0m         \u001b[0;31m# Automatically find path to the tagger if location is not specified.\u001b[0m\u001b[0;34m\u001b[0m\u001b[0;34m\u001b[0m\u001b[0m\n\u001b[0;32m--> 273\u001b[0;31m         \u001b[0mloc\u001b[0m \u001b[0;34m=\u001b[0m \u001b[0mfind\u001b[0m\u001b[0;34m(\u001b[0m\u001b[0;34mf\"taggers/averaged_perceptron_tagger_{lang}/\"\u001b[0m\u001b[0;34m)\u001b[0m\u001b[0;34m\u001b[0m\u001b[0;34m\u001b[0m\u001b[0m\n\u001b[0m\u001b[1;32m    274\u001b[0m         \u001b[0;32mwith\u001b[0m \u001b[0mopen\u001b[0m\u001b[0;34m(\u001b[0m\u001b[0mloc\u001b[0m \u001b[0;34m+\u001b[0m \u001b[0mTAGGER_JSONS\u001b[0m\u001b[0;34m[\u001b[0m\u001b[0mlang\u001b[0m\u001b[0;34m]\u001b[0m\u001b[0;34m[\u001b[0m\u001b[0;34m\"weights\"\u001b[0m\u001b[0;34m]\u001b[0m\u001b[0;34m)\u001b[0m \u001b[0;32mas\u001b[0m \u001b[0mfin\u001b[0m\u001b[0;34m:\u001b[0m\u001b[0;34m\u001b[0m\u001b[0;34m\u001b[0m\u001b[0m\n\u001b[1;32m    275\u001b[0m             \u001b[0mself\u001b[0m\u001b[0;34m.\u001b[0m\u001b[0mmodel\u001b[0m\u001b[0;34m.\u001b[0m\u001b[0mweights\u001b[0m \u001b[0;34m=\u001b[0m \u001b[0mjson\u001b[0m\u001b[0;34m.\u001b[0m\u001b[0mload\u001b[0m\u001b[0;34m(\u001b[0m\u001b[0mfin\u001b[0m\u001b[0;34m)\u001b[0m\u001b[0;34m\u001b[0m\u001b[0;34m\u001b[0m\u001b[0m\n",
            "\u001b[0;32m/usr/local/lib/python3.10/dist-packages/nltk/data.py\u001b[0m in \u001b[0;36mfind\u001b[0;34m(resource_name, paths)\u001b[0m\n\u001b[1;32m    577\u001b[0m     \u001b[0msep\u001b[0m \u001b[0;34m=\u001b[0m \u001b[0;34m\"*\"\u001b[0m \u001b[0;34m*\u001b[0m \u001b[0;36m70\u001b[0m\u001b[0;34m\u001b[0m\u001b[0;34m\u001b[0m\u001b[0m\n\u001b[1;32m    578\u001b[0m     \u001b[0mresource_not_found\u001b[0m \u001b[0;34m=\u001b[0m \u001b[0;34mf\"\\n{sep}\\n{msg}\\n{sep}\\n\"\u001b[0m\u001b[0;34m\u001b[0m\u001b[0;34m\u001b[0m\u001b[0m\n\u001b[0;32m--> 579\u001b[0;31m     \u001b[0;32mraise\u001b[0m \u001b[0mLookupError\u001b[0m\u001b[0;34m(\u001b[0m\u001b[0mresource_not_found\u001b[0m\u001b[0;34m)\u001b[0m\u001b[0;34m\u001b[0m\u001b[0;34m\u001b[0m\u001b[0m\n\u001b[0m\u001b[1;32m    580\u001b[0m \u001b[0;34m\u001b[0m\u001b[0m\n\u001b[1;32m    581\u001b[0m \u001b[0;34m\u001b[0m\u001b[0m\n",
            "\u001b[0;31mLookupError\u001b[0m: \n**********************************************************************\n  Resource \u001b[93maveraged_perceptron_tagger_eng\u001b[0m not found.\n  Please use the NLTK Downloader to obtain the resource:\n\n  \u001b[31m>>> import nltk\n  >>> nltk.download('averaged_perceptron_tagger_eng')\n  \u001b[0m\n  For more information see: https://www.nltk.org/data.html\n\n  Attempted to load \u001b[93mtaggers/averaged_perceptron_tagger_eng/\u001b[0m\n\n  Searched in:\n    - '/root/nltk_data'\n    - '/usr/nltk_data'\n    - '/usr/share/nltk_data'\n    - '/usr/lib/nltk_data'\n    - '/usr/share/nltk_data'\n    - '/usr/local/share/nltk_data'\n    - '/usr/lib/nltk_data'\n    - '/usr/local/lib/nltk_data'\n    - '/root/nltk_data'\n    - '/root/nltk_data'\n    - '/root/nltk_data'\n    - '/root/nltk_data'\n    - '/usr/local/nltk_data'\n**********************************************************************\n"
          ]
        }
      ]
    },
    {
      "cell_type": "markdown",
      "source": [
        "12. How can you find the similarity between two sentences using cosine similarity"
      ],
      "metadata": {
        "id": "E81DxesxYgte"
      }
    },
    {
      "cell_type": "code",
      "source": [
        "from sklearn.feature_extraction.text import TfidfVectorizer\n",
        "from sklearn.metrics.pairwise import cosine_similarity\n",
        "\n",
        "# Example sentences\n",
        "sentence1 = \"I love programming in Python.\"\n",
        "sentence2 = \"Python programming is amazing.\"\n",
        "\n",
        "# Step 1: Create the TF-IDF Vectorizer\n",
        "vectorizer = TfidfVectorizer()\n",
        "\n",
        "# Step 2: Fit and transform the sentences into TF-IDF vectors\n",
        "tfidf_matrix = vectorizer.fit_transform([sentence1, sentence2])\n",
        "\n",
        "# Step 3: Compute Cosine Similarity\n",
        "cosine_sim = cosine_similarity(tfidf_matrix[0:1], tfidf_matrix[1:2])\n",
        "\n",
        "# Output similarity\n",
        "print(f\"Cosine Similarity: {cosine_sim[0][0]:.4f}\")\n"
      ],
      "metadata": {
        "colab": {
          "base_uri": "https://localhost:8080/"
        },
        "id": "iDbgr_BHW__p",
        "outputId": "4cf4b87b-47ec-4e70-f66d-0b3040ebd334"
      },
      "execution_count": 26,
      "outputs": [
        {
          "output_type": "stream",
          "name": "stdout",
          "text": [
            "Cosine Similarity: 0.3361\n"
          ]
        }
      ]
    },
    {
      "cell_type": "markdown",
      "source": [
        "13. How can you extract named entities from a sentence"
      ],
      "metadata": {
        "id": "qL8smClJZMIh"
      }
    },
    {
      "cell_type": "code",
      "source": [
        "import spacy\n",
        "\n",
        "# Load the spaCy model\n",
        "nlp = spacy.load(\"en_core_web_sm\")\n",
        "\n",
        "# Example sentence\n",
        "sentence = \"Barack Obama was the 44th President of the United States and was born in Hawaii.\"\n",
        "\n",
        "# Process the sentence\n",
        "doc = nlp(sentence)\n",
        "\n",
        "# Extract named entities\n",
        "for entity in doc.ents:\n",
        "    print(f\"Entity: {entity.text}, Type: {entity.label_}\")\n"
      ],
      "metadata": {
        "colab": {
          "base_uri": "https://localhost:8080/"
        },
        "id": "H0Hdio-bYroD",
        "outputId": "cfd205dc-857a-476e-f035-1a73142100fa"
      },
      "execution_count": 28,
      "outputs": [
        {
          "output_type": "stream",
          "name": "stderr",
          "text": [
            "/usr/local/lib/python3.10/dist-packages/spacy/util.py:1740: UserWarning: [W111] Jupyter notebook detected: if using `prefer_gpu()` or `require_gpu()`, include it in the same cell right before `spacy.load()` to ensure that the model is loaded on the correct device. More information: http://spacy.io/usage/v3#jupyter-notebook-gpu\n",
            "  warnings.warn(Warnings.W111)\n"
          ]
        },
        {
          "output_type": "stream",
          "name": "stdout",
          "text": [
            "Entity: Barack Obama, Type: PERSON\n",
            "Entity: 44th, Type: ORDINAL\n",
            "Entity: the United States, Type: GPE\n",
            "Entity: Hawaii, Type: GPE\n"
          ]
        }
      ]
    },
    {
      "cell_type": "markdown",
      "source": [
        "Using Transformers (Hugging Face)\n"
      ],
      "metadata": {
        "id": "PwmtMRgoaEkV"
      }
    },
    {
      "cell_type": "code",
      "source": [
        "from transformers import pipeline\n",
        "\n",
        "# Load the NER pipeline\n",
        "ner = pipeline(\"ner\", model=\"dbmdz/bert-large-cased-finetuned-conll03-english\", grouped_entities=True)\n",
        "\n",
        "# Example sentence\n",
        "sentence = \"Barack Obama was the 44th President of the United States and was born in Hawaii.\"\n",
        "\n",
        "# Perform Named Entity Recognition\n",
        "entities = ner(sentence)\n",
        "\n",
        "# Print entities\n",
        "for entity in entities:\n",
        "    print(f\"Entity: {entity['word']}, Type: {entity['entity_group']}\")\n"
      ],
      "metadata": {
        "colab": {
          "base_uri": "https://localhost:8080/",
          "height": 425,
          "referenced_widgets": [
            "5d53d4d2e12a47d8818fc3bcddcad91e",
            "334069011f8e442ea90a399f8599e2b1",
            "bf9a21d3952e40f995fbc9eb6e7ae867",
            "a4f18378206748d1be19ed65454b34b1",
            "8b8083370c2a49bca9f4a872270617e0",
            "b7c61f4e63d84e8dbf7c44a94ed52db8",
            "9417bc8294cc48e699fd71c666bf3740",
            "647cd1b7349f4f75b65738e9f1160c09",
            "c6937424ea61438d993cd4255dbcd1f8",
            "c9f83647c4ca404ebb7140a59202ebdb",
            "b007aa1f5caa4ca59612b5cfffdc4867",
            "79dc5cfe20524b95a5cfca4a7869f708",
            "f7a02eb96a9447b58a2fc6095ee95046",
            "48e55a32099c43e99d3bc0c6f4349df8",
            "9267b960e06a45eebb6a7261bee028c6",
            "d283425f075a4128be41deda118b4828",
            "cbb6821de7174fe28ebfce6f12680496",
            "ff52c41b75644864b57a2bf963b6c87e",
            "e102073d3a3d44169b093bf4484f7982",
            "f6fa31cc4dff4fdbaa78ba4043207215",
            "9951fa56020d460991b48c62e449affe",
            "356cd62c1e1f4c4d8dae05b070402998",
            "0216bf9e5e264771a646e9a4963772e9",
            "6ca76400057b403dbd35416cfe0b150b",
            "5e3683683a62488fbfaa59a05412284d",
            "efd5182b95dd4c60ad2b24a8d73a5b09",
            "2addfa1f8dc54b778f52392d06badb68",
            "d1e804e4dc394467b8d83bf8f034ec8a",
            "35101486e57640b0ae427d6b80a8c15a",
            "e3673fa18eed42788b2b3e1845c45cf4",
            "95e42602987b43099dc2fde5e34e76fb",
            "02bf476d0d064715ad9e38ec8e461d7c",
            "f585c86812df49b182e303396bbc3502",
            "fadb6430adf74d7dbbef09ab36f4a239",
            "697ed4f72d3e4ac3ad97b6cd148f9f11",
            "85cc7ee5ebf54420aeb164696ed69ddf",
            "53a2e97dffa64be180bcb9b30b2e8d3a",
            "d7e68b43052145ebafa7271ce181f1d6",
            "4e5bf39c05514c6d8e501b0d7218e80c",
            "ba5841201cea4b8fb730f2225235c623",
            "8e0c9fa023564d648d51f9a7a50a2b67",
            "58d2dacc6f1e4c9393d61d675b7b7a1f",
            "704632838f9b4c54abe4cc01201d81b4",
            "95beadbc6661498cb3f639a27be551f6"
          ]
        },
        "id": "tXU9kboDZqoC",
        "outputId": "b7f9d4f8-5e68-453f-c844-a4ff9dcbda32"
      },
      "execution_count": 29,
      "outputs": [
        {
          "output_type": "stream",
          "name": "stderr",
          "text": [
            "/usr/local/lib/python3.10/dist-packages/huggingface_hub/utils/_auth.py:94: UserWarning: \n",
            "The secret `HF_TOKEN` does not exist in your Colab secrets.\n",
            "To authenticate with the Hugging Face Hub, create a token in your settings tab (https://huggingface.co/settings/tokens), set it as secret in your Google Colab and restart your session.\n",
            "You will be able to reuse this secret in all of your notebooks.\n",
            "Please note that authentication is recommended but still optional to access public models or datasets.\n",
            "  warnings.warn(\n"
          ]
        },
        {
          "output_type": "display_data",
          "data": {
            "text/plain": [
              "config.json:   0%|          | 0.00/998 [00:00<?, ?B/s]"
            ],
            "application/vnd.jupyter.widget-view+json": {
              "version_major": 2,
              "version_minor": 0,
              "model_id": "5d53d4d2e12a47d8818fc3bcddcad91e"
            }
          },
          "metadata": {}
        },
        {
          "output_type": "display_data",
          "data": {
            "text/plain": [
              "model.safetensors:   0%|          | 0.00/1.33G [00:00<?, ?B/s]"
            ],
            "application/vnd.jupyter.widget-view+json": {
              "version_major": 2,
              "version_minor": 0,
              "model_id": "79dc5cfe20524b95a5cfca4a7869f708"
            }
          },
          "metadata": {}
        },
        {
          "output_type": "stream",
          "name": "stderr",
          "text": [
            "Some weights of the model checkpoint at dbmdz/bert-large-cased-finetuned-conll03-english were not used when initializing BertForTokenClassification: ['bert.pooler.dense.bias', 'bert.pooler.dense.weight']\n",
            "- This IS expected if you are initializing BertForTokenClassification from the checkpoint of a model trained on another task or with another architecture (e.g. initializing a BertForSequenceClassification model from a BertForPreTraining model).\n",
            "- This IS NOT expected if you are initializing BertForTokenClassification from the checkpoint of a model that you expect to be exactly identical (initializing a BertForSequenceClassification model from a BertForSequenceClassification model).\n"
          ]
        },
        {
          "output_type": "display_data",
          "data": {
            "text/plain": [
              "tokenizer_config.json:   0%|          | 0.00/60.0 [00:00<?, ?B/s]"
            ],
            "application/vnd.jupyter.widget-view+json": {
              "version_major": 2,
              "version_minor": 0,
              "model_id": "0216bf9e5e264771a646e9a4963772e9"
            }
          },
          "metadata": {}
        },
        {
          "output_type": "display_data",
          "data": {
            "text/plain": [
              "vocab.txt:   0%|          | 0.00/213k [00:00<?, ?B/s]"
            ],
            "application/vnd.jupyter.widget-view+json": {
              "version_major": 2,
              "version_minor": 0,
              "model_id": "fadb6430adf74d7dbbef09ab36f4a239"
            }
          },
          "metadata": {}
        },
        {
          "output_type": "stream",
          "name": "stderr",
          "text": [
            "Device set to use cuda:0\n",
            "/usr/local/lib/python3.10/dist-packages/transformers/pipelines/token_classification.py:170: UserWarning: `grouped_entities` is deprecated and will be removed in version v5.0.0, defaulted to `aggregation_strategy=\"simple\"` instead.\n",
            "  warnings.warn(\n"
          ]
        },
        {
          "output_type": "stream",
          "name": "stdout",
          "text": [
            "Entity: Barack Obama, Type: PER\n",
            "Entity: United States, Type: LOC\n",
            "Entity: Hawaii, Type: LOC\n"
          ]
        }
      ]
    },
    {
      "cell_type": "markdown",
      "source": [
        "14. How can you split a large document into smaller chunks of text"
      ],
      "metadata": {
        "id": "b6V3enN6aPT4"
      }
    },
    {
      "cell_type": "code",
      "source": [
        "import nltk\n",
        "from nltk.tokenize import sent_tokenize\n",
        "\n",
        "nltk.download('punkt')\n",
        "\n",
        "# Sample large document\n",
        "large_text = \"\"\"This is the first sentence. Here is another sentence.\n",
        "Large documents can contain multiple sentences. Splitting helps in processing.\"\"\"\n",
        "\n",
        "# Split into sentences\n",
        "chunks = sent_tokenize(large_text)\n",
        "\n",
        "# Print the chunks\n",
        "for chunk in chunks:\n",
        "    print(chunk)"
      ],
      "metadata": {
        "colab": {
          "base_uri": "https://localhost:8080/"
        },
        "id": "dvYMesYHZ82N",
        "outputId": "55d61c1b-f2c4-4cf8-c9ff-9bc6e5322de6"
      },
      "execution_count": 30,
      "outputs": [
        {
          "output_type": "stream",
          "name": "stdout",
          "text": [
            "This is the first sentence.\n",
            "Here is another sentence.\n",
            "Large documents can contain multiple sentences.\n",
            "Splitting helps in processing.\n"
          ]
        },
        {
          "output_type": "stream",
          "name": "stderr",
          "text": [
            "[nltk_data] Downloading package punkt to /root/nltk_data...\n",
            "[nltk_data]   Package punkt is already up-to-date!\n"
          ]
        }
      ]
    },
    {
      "cell_type": "markdown",
      "source": [
        "Splitting by Paragraphs"
      ],
      "metadata": {
        "id": "4vHD3PKsa0oD"
      }
    },
    {
      "cell_type": "code",
      "source": [
        "# Large document text\n",
        "large_text = \"\"\"This is the first paragraph.\n",
        "\n",
        "This is the second paragraph.\n",
        "\n",
        "This is the third paragraph.\"\"\"\n",
        "\n",
        "# Split by newlines (assuming paragraphs are separated by double newlines)\n",
        "chunks = large_text.split(\"\\n\\n\")\n",
        "\n",
        "# Print the chunks\n",
        "for chunk in chunks:\n",
        "    print(chunk)\n"
      ],
      "metadata": {
        "colab": {
          "base_uri": "https://localhost:8080/"
        },
        "id": "sl-8lu36atHH",
        "outputId": "e56df28a-d4f1-4f60-a029-a180be423fe5"
      },
      "execution_count": 31,
      "outputs": [
        {
          "output_type": "stream",
          "name": "stdout",
          "text": [
            "This is the first paragraph.\n",
            "This is the second paragraph.\n",
            "This is the third paragraph.\n"
          ]
        }
      ]
    },
    {
      "cell_type": "code",
      "source": [
        "# Large document text\n",
        "large_text = \"\"\"This is a large document containing multiple sentences.\n",
        "We want to split this into chunks of a fixed word count for better processing.\"\"\"\n",
        "\n",
        "# Split into words\n",
        "words = large_text.split()\n",
        "\n",
        "# Chunk size\n",
        "chunk_size = 10\n",
        "\n",
        "# Create chunks\n",
        "chunks = [\" \".join(words[i:i + chunk_size]) for i in range(0, len(words), chunk_size)]\n",
        "\n",
        "# Print the chunks\n",
        "for chunk in chunks:\n",
        "    print(chunk)\n"
      ],
      "metadata": {
        "colab": {
          "base_uri": "https://localhost:8080/"
        },
        "id": "GSoDStZYa2K5",
        "outputId": "fb9d243f-bfb9-4a55-9ada-ea553f3d662b"
      },
      "execution_count": 32,
      "outputs": [
        {
          "output_type": "stream",
          "name": "stdout",
          "text": [
            "This is a large document containing multiple sentences. We want\n",
            "to split this into chunks of a fixed word count\n",
            "for better processing.\n"
          ]
        }
      ]
    },
    {
      "cell_type": "markdown",
      "source": [
        "15.  How can you calculate the TF-IDF (Term Frequency - Inverse Document Frequency) for a set of documents"
      ],
      "metadata": {
        "id": "m6vaEZ6mbDki"
      }
    },
    {
      "cell_type": "code",
      "source": [
        "from sklearn.feature_extraction.text import TfidfVectorizer\n",
        "\n",
        "# Sample set of documents\n",
        "documents = [\n",
        "    \"This is a sample document.\",\n",
        "    \"This document is another sample document.\",\n",
        "    \"Text mining is fun with machine learning.\",\n",
        "    \"Natural language processing is part of text mining.\"\n",
        "]\n",
        "\n",
        "# Initialize the TfidfVectorizer\n",
        "vectorizer = TfidfVectorizer()\n",
        "\n",
        "# Fit the model and transform the documents\n",
        "tfidf_matrix = vectorizer.fit_transform(documents)\n",
        "\n",
        "# Convert the matrix to a DataFrame for better readability\n",
        "import pandas as pd\n",
        "tfidf_df = pd.DataFrame(tfidf_matrix.toarray(), columns=vectorizer.get_feature_names_out())\n",
        "\n",
        "# Print the TF-IDF values\n",
        "print(tfidf_df)\n"
      ],
      "metadata": {
        "colab": {
          "base_uri": "https://localhost:8080/"
        },
        "id": "WAA4ogyUa5FJ",
        "outputId": "0b04ea9e-5acd-4e70-dff2-5771250108ba"
      },
      "execution_count": 33,
      "outputs": [
        {
          "output_type": "stream",
          "name": "stdout",
          "text": [
            "   another  document       fun        is  language  learning   machine  \\\n",
            "0  0.00000  0.539313  0.000000  0.356966  0.000000  0.000000  0.000000   \n",
            "1  0.44713  0.705045  0.000000  0.233331  0.000000  0.000000  0.000000   \n",
            "2  0.00000  0.000000  0.425802  0.222201  0.000000  0.425802  0.425802   \n",
            "3  0.00000  0.000000  0.000000  0.204439  0.391765  0.000000  0.000000   \n",
            "\n",
            "     mining   natural        of      part  processing    sample      text  \\\n",
            "0  0.000000  0.000000  0.000000  0.000000    0.000000  0.539313  0.000000   \n",
            "1  0.000000  0.000000  0.000000  0.000000    0.000000  0.352522  0.000000   \n",
            "2  0.335707  0.000000  0.000000  0.000000    0.000000  0.000000  0.335707   \n",
            "3  0.308872  0.391765  0.391765  0.391765    0.391765  0.000000  0.308872   \n",
            "\n",
            "       this      with  \n",
            "0  0.539313  0.000000  \n",
            "1  0.352522  0.000000  \n",
            "2  0.000000  0.425802  \n",
            "3  0.000000  0.000000  \n"
          ]
        }
      ]
    },
    {
      "cell_type": "markdown",
      "source": [
        "16. How can you apply tokenization, stopword removal, and stemming in one go"
      ],
      "metadata": {
        "id": "WKIWQQTcbTHq"
      }
    },
    {
      "cell_type": "code",
      "source": [
        "import nltk\n",
        "from nltk.corpus import stopwords\n",
        "from nltk.tokenize import word_tokenize\n",
        "from nltk.stem import PorterStemmer\n",
        "\n",
        "# Download necessary NLTK resources (run this in a new environment if needed)\n",
        "nltk.download('punkt')\n",
        "nltk.download('stopwords')\n",
        "\n",
        "# Example text\n",
        "text = \"This is an example sentence, demonstrating tokenization, stopword removal, and stemming.\"\n",
        "\n",
        "# Step 1: Tokenization\n",
        "tokens = word_tokenize(text)\n",
        "\n",
        "# Step 2: Remove stopwords\n",
        "stop_words = set(stopwords.words('english'))\n",
        "filtered_tokens = [word for word in tokens if word.lower() not in stop_words]\n",
        "\n",
        "# Step 3: Stemming\n",
        "stemmer = PorterStemmer()\n",
        "stemmed_tokens = [stemmer.stem(word) for word in filtered_tokens]\n",
        "\n",
        "# Print the result\n",
        "print(\"Original Text: \", text)\n",
        "print()\n",
        "print(\"Tokens: \", tokens)\n",
        "print()\n",
        "print(\"Filtered Tokens (Stopwords Removed): \", filtered_tokens)\n",
        "print()\n",
        "print(\"Stemmed Tokens: \", stemmed_tokens)\n"
      ],
      "metadata": {
        "colab": {
          "base_uri": "https://localhost:8080/"
        },
        "id": "qTNyVwgIbPET",
        "outputId": "1828bba7-f1fa-4356-e8e4-a2c84c0377ee"
      },
      "execution_count": 35,
      "outputs": [
        {
          "output_type": "stream",
          "name": "stdout",
          "text": [
            "Original Text:  This is an example sentence, demonstrating tokenization, stopword removal, and stemming.\n",
            "\n",
            "Tokens:  ['This', 'is', 'an', 'example', 'sentence', ',', 'demonstrating', 'tokenization', ',', 'stopword', 'removal', ',', 'and', 'stemming', '.']\n",
            "\n",
            "Filtered Tokens (Stopwords Removed):  ['example', 'sentence', ',', 'demonstrating', 'tokenization', ',', 'stopword', 'removal', ',', 'stemming', '.']\n",
            "\n",
            "Stemmed Tokens:  ['exampl', 'sentenc', ',', 'demonstr', 'token', ',', 'stopword', 'remov', ',', 'stem', '.']\n"
          ]
        },
        {
          "output_type": "stream",
          "name": "stderr",
          "text": [
            "[nltk_data] Downloading package punkt to /root/nltk_data...\n",
            "[nltk_data]   Package punkt is already up-to-date!\n",
            "[nltk_data] Downloading package stopwords to /root/nltk_data...\n",
            "[nltk_data]   Package stopwords is already up-to-date!\n"
          ]
        }
      ]
    },
    {
      "cell_type": "markdown",
      "source": [
        "17.  How can you visualize the frequency distribution of words in a sentence"
      ],
      "metadata": {
        "id": "9K-Uc8kBcGVV"
      }
    },
    {
      "cell_type": "code",
      "source": [
        "import nltk\n",
        "from nltk.probability import FreqDist\n",
        "import matplotlib.pyplot as plt\n",
        "from nltk.tokenize import word_tokenize\n",
        "\n",
        "# Download necessary NLTK resources (run this in a new environment if needed)\n",
        "nltk.download('punkt')\n",
        "\n",
        "# Example sentence\n",
        "text = \"This is an example sentence, demonstrating the frequency distribution of words.\"\n",
        "\n",
        "# Step 1: Tokenization\n",
        "tokens = word_tokenize(text)\n",
        "\n",
        "# Step 2: Create frequency distribution\n",
        "fdist = FreqDist(tokens)\n",
        "\n",
        "# Step 3: Plot the frequency distribution\n",
        "fdist.plot(cumulative=False)\n",
        "plt.show()\n"
      ],
      "metadata": {
        "colab": {
          "base_uri": "https://localhost:8080/",
          "height": 573
        },
        "id": "2Us3V4mzb0-s",
        "outputId": "2af1bda1-bc6d-4b34-c3e5-778081b0cbac"
      },
      "execution_count": 36,
      "outputs": [
        {
          "output_type": "stream",
          "name": "stderr",
          "text": [
            "[nltk_data] Downloading package punkt to /root/nltk_data...\n",
            "[nltk_data]   Package punkt is already up-to-date!\n"
          ]
        },
        {
          "output_type": "display_data",
          "data": {
            "text/plain": [
              "<Figure size 640x480 with 1 Axes>"
            ],
            "image/png": "[encoded data removed]"
          },
          "metadata": {}
        }
      ]
    },
    {
      "cell_type": "code",
      "source": [],
      "metadata": {
        "id": "EHyDZdabcNQs"
      },
      "execution_count": null,
      "outputs": []
    }
  ]
}